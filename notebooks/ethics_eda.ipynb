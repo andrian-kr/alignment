{
 "cells": [
  {
   "cell_type": "code",
   "execution_count": null,
   "id": "2146cc8e",
   "metadata": {},
   "outputs": [
    {
     "name": "stderr",
     "output_type": "stream",
     "text": [
      "/Users/akravche/Projects/UCU/alignment/.venv/lib/python3.12/site-packages/tqdm/auto.py:21: TqdmWarning: IProgress not found. Please update jupyter and ipywidgets. See https://ipywidgets.readthedocs.io/en/stable/user_install.html\n",
      "  from .autonotebook import tqdm as notebook_tqdm\n"
     ]
    }
   ],
   "source": [
    "from datasets import load_dataset\n",
    "import pandas as pd\n",
    "\n",
    "test_commonsense = load_dataset(\"hendrycks/ethics\", \"commonsense\", split=\"test\")\n",
    "test_commonsense_df = test_commonsense.to_pandas()"
   ]
  },
  {
   "cell_type": "code",
   "execution_count": 6,
   "id": "f90d34a6",
   "metadata": {},
   "outputs": [
    {
     "data": {
      "text/plain": [
       "3964"
      ]
     },
     "execution_count": 6,
     "metadata": {},
     "output_type": "execute_result"
    }
   ],
   "source": [
    "len(test_commonsense_df)"
   ]
  },
  {
   "cell_type": "code",
   "execution_count": 10,
   "id": "58062eb3",
   "metadata": {},
   "outputs": [],
   "source": [
    "subset = test_commonsense_df.head(1700)\n",
    "later = test_commonsense_df.tail(len(test_commonsense_df) - 1700)"
   ]
  },
  {
   "cell_type": "code",
   "execution_count": 11,
   "id": "900c71f3",
   "metadata": {},
   "outputs": [
    {
     "data": {
      "text/plain": [
       "(1700, 2264)"
      ]
     },
     "execution_count": 11,
     "metadata": {},
     "output_type": "execute_result"
    }
   ],
   "source": [
    "len(subset), len(later)"
   ]
  },
  {
   "cell_type": "code",
   "execution_count": 13,
   "id": "cd86d4f0",
   "metadata": {},
   "outputs": [],
   "source": [
    "def analysis(df):\n",
    "    lengths = df['input'].str.len()\n",
    "\n",
    "    # Calculate statistics\n",
    "    average_length = lengths.mean()\n",
    "    max_length = lengths.max()\n",
    "    min_length = lengths.min()\n",
    "\n",
    "    print(f\"Average length: {average_length}\")\n",
    "    print(f\"Max length: {max_length}\")\n",
    "    print(f\"Min length: {min_length}\")"
   ]
  },
  {
   "cell_type": "code",
   "execution_count": 14,
   "id": "b79ef715",
   "metadata": {},
   "outputs": [
    {
     "name": "stdout",
     "output_type": "stream",
     "text": [
      "Average length: 61.79529411764706\n",
      "Max length: 231\n",
      "Min length: 18\n"
     ]
    }
   ],
   "source": [
    "analysis(subset)"
   ]
  },
  {
   "cell_type": "code",
   "execution_count": 15,
   "id": "30ebb169",
   "metadata": {},
   "outputs": [
    {
     "name": "stdout",
     "output_type": "stream",
     "text": [
      "Average length: 1635.965106007067\n",
      "Max length: 7405\n",
      "Min length: 72\n"
     ]
    }
   ],
   "source": [
    "analysis(later)"
   ]
  },
  {
   "cell_type": "code",
   "execution_count": 16,
   "id": "a0f0e75b",
   "metadata": {},
   "outputs": [
    {
     "data": {
      "text/plain": [
       "label\n",
       "1    2091\n",
       "0    1873\n",
       "Name: count, dtype: int64"
      ]
     },
     "execution_count": 16,
     "metadata": {},
     "output_type": "execute_result"
    }
   ],
   "source": [
    "test_commonsense_df['label'].value_counts()"
   ]
  },
  {
   "cell_type": "code",
   "execution_count": null,
   "id": "b34b74b1",
   "metadata": {},
   "outputs": [
    {
     "name": "stdout",
     "output_type": "stream",
     "text": [
      "Column: area\n",
      "area\n",
      "amitheasshole    1179\n",
      "confessions      1110\n",
      "rocstories        971\n",
      "dearabby          422\n",
      "Name: count, dtype: int64\n",
      "\n",
      "Column: rot-categorization\n",
      "rot-categorization\n",
      "morality-ethics                             1018\n",
      "advice                                       903\n",
      "social-norms                                 558\n",
      "morality-ethics|social-norms                 439\n",
      "description                                  278\n",
      "social-norms|advice                          208\n",
      "morality-ethics|advice                       150\n",
      "social-norms|description                      58\n",
      "advice|description                            33\n",
      "morality-ethics|description                   25\n",
      "morality-ethics|social-norms|advice            6\n",
      "morality-ethics|social-norms|description       1\n",
      "Name: count, dtype: int64\n",
      "\n",
      "Column: rot-moral-foundations\n",
      "rot-moral-foundations\n",
      "care-harm                                              2561\n",
      "care-harm|loyalty-betrayal                              499\n",
      "care-harm|fairness-cheating                             218\n",
      "care-harm|authority-subversion                          194\n",
      "care-harm|sanctity-degradation                          166\n",
      "care-harm|fairness-cheating|loyalty-betrayal             19\n",
      "care-harm|authority-subversion|sanctity-degradation      13\n",
      "care-harm|fairness-cheating|authority-subversion          6\n",
      "care-harm|loyalty-betrayal|authority-subversion           3\n",
      "care-harm|loyalty-betrayal|sanctity-degradation           3\n",
      "Name: count, dtype: int64\n",
      "\n",
      "Column: rot-judgment\n",
      "rot-judgment\n",
      "It's good           382\n",
      "should              215\n",
      "it's good           200\n",
      "shouldn't           158\n",
      "You should          147\n",
      "                   ... \n",
      "It's sadistic         1\n",
      "Is expected           1\n",
      "It is smart           1\n",
      "You are allowed       1\n",
      "It's commendable      1\n",
      "Name: count, Length: 465, dtype: int64\n",
      "\n",
      "Column: action-moral-judgment\n",
      "action-moral-judgment\n",
      " 0.0    1271\n",
      " 1.0     963\n",
      "-1.0     863\n",
      "-2.0     427\n",
      " 2.0     158\n",
      "Name: count, dtype: int64\n",
      "\n",
      "Column: action-legal\n",
      "action-legal\n",
      "legal        3208\n",
      "tolerated     261\n",
      "illegal       201\n",
      "Name: count, dtype: int64\n",
      "\n",
      "Column: label\n",
      "label\n",
      "0    1290\n",
      "1    1271\n",
      "2    1121\n",
      "Name: count, dtype: int64\n",
      "\n",
      "Column: action_ukr\n",
      "action_ukr\n",
      "пошкодження чужого майна.                                               4\n",
      "турбота про ваших домашніх тварин                                       2\n",
      "псування чужого майна.                                                  2\n",
      "дбати про себе                                                          2\n",
      "переїдання                                                              2\n",
      "                                                                       ..\n",
      "робити все можливе, щоб не створювати незручностей іншим.               1\n",
      "робити все можливе, щоб запобігти жорстокому поводженню з тваринами.    1\n",
      "Робити те, що обіцяєш зробити                                           1\n",
      "робити те, що каже ваш гід.                                             1\n",
      "твоя друга половинка ставиться до тебе з повагою.                       1\n",
      "Name: count, Length: 3658, dtype: int64\n",
      "\n",
      "Column: action_en\n",
      "action_en\n",
      "Abusing children                                          1\n",
      "not keeping in touch with some people in your life.       1\n",
      "not letting a woman make decisions about her own body.    1\n",
      "not letting others taking advantage of your kindness.     1\n",
      "not letting someone follow their dream.                   1\n",
      "                                                         ..\n",
      "doing things to others because you are jealous.           1\n",
      "doing things to please a romantic partner.                1\n",
      "doing things to yourself that only hurt you.              1\n",
      "doing things with your child.                             1\n",
      "your significant other treating you with respect.         1\n",
      "Name: count, Length: 3682, dtype: int64\n",
      "\n"
     ]
    }
   ],
   "source": [
    "df = pd.read_csv('../evaluation/datasets/social-chem-101/social-chem-101_care-harm_final.csv')\n",
    "\n",
    "for column in df.columns:\n",
    "    print(f\"Column: {column}\")\n",
    "    print(df[column].value_counts())\n",
    "    print()"
   ]
  }
 ],
 "metadata": {
  "kernelspec": {
   "display_name": ".venv",
   "language": "python",
   "name": "python3"
  },
  "language_info": {
   "codemirror_mode": {
    "name": "ipython",
    "version": 3
   },
   "file_extension": ".py",
   "mimetype": "text/x-python",
   "name": "python",
   "nbconvert_exporter": "python",
   "pygments_lexer": "ipython3",
   "version": "3.12.0"
  }
 },
 "nbformat": 4,
 "nbformat_minor": 5
}
