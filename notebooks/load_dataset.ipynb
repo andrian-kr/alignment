{
 "cells": [
  {
   "cell_type": "code",
   "execution_count": 1,
   "metadata": {},
   "outputs": [
    {
     "name": "stderr",
     "output_type": "stream",
     "text": [
      "/Users/akravche/Projects/UCU/alignment/.venv/lib/python3.12/site-packages/tqdm/auto.py:21: TqdmWarning: IProgress not found. Please update jupyter and ipywidgets. See https://ipywidgets.readthedocs.io/en/stable/user_install.html\n",
      "  from .autonotebook import tqdm as notebook_tqdm\n"
     ]
    }
   ],
   "source": [
    "from datasets import load_dataset\n",
    "import pandas as pd"
   ]
  },
  {
   "cell_type": "markdown",
   "metadata": {},
   "source": [
    "### Aya eval suite"
   ]
  },
  {
   "cell_type": "code",
   "execution_count": null,
   "metadata": {},
   "outputs": [],
   "source": [
    "aya_eval = load_dataset(\"CohereForAI/aya_evaluation_suite\", \"dolly_machine_translated\", split=\"test\")\n",
    "aya_eval_df = aya_eval.to_pandas()\n",
    "aya_eval_df_uk = aya_eval_df[aya_eval_df[\"language\"] == \"ukr\"]\n",
    "aya_eval_df_uk_subset = aya_eval_df_uk[[\"inputs\", \"targets\"]]\n",
    "aya_eval_df_uk_subset.to_csv(\"aya_eval_ukr.csv\", index=False)"
   ]
  },
  {
   "cell_type": "markdown",
   "metadata": {},
   "source": [
    "### ETHICS commonsense"
   ]
  },
  {
   "cell_type": "code",
   "execution_count": null,
   "metadata": {},
   "outputs": [],
   "source": [
    "test_commonsense = load_dataset(\"hendrycks/ethics\", \"commonsense\", split=\"test\")\n",
    "test_commonsense_df = test_commonsense.to_pandas()\n",
    "test_commonsense_df = test_commonsense_df.head(1700)\n",
    "test_commonsense_df.to_csv(\"../evaluation/datasets/ethics/ethics_commonsense.csv\", index=False)"
   ]
  },
  {
   "cell_type": "code",
   "execution_count": 27,
   "metadata": {},
   "outputs": [],
   "source": [
    "def count_chars(dataset, input_keys):\n",
    "    return sum(sum(len(example[key]) for key in input_keys if key in example) for example in dataset)\n",
    "\n",
    "def get_char_count(subcategory: str):\n",
    "    dataset = load_dataset(\"hendrycks/ethics\", subcategory)\n",
    "    char_counts = {split: count_chars(dataset[split], ['baseline', 'less plesant']) for split in dataset}\n",
    "    \n",
    "    for split, count in char_counts.items():\n",
    "        print(f\"Total characters in {split}: {count}\")"
   ]
  },
  {
   "cell_type": "code",
   "execution_count": 29,
   "metadata": {},
   "outputs": [
    {
     "name": "stderr",
     "output_type": "stream",
     "text": [
      "Generating train split: 100%|██████████| 13737/13737 [00:00<00:00, 1151076.90 examples/s]\n",
      "Generating validation split: 100%|██████████| 4807/4807 [00:00<00:00, 763973.30 examples/s]\n",
      "Generating test split: 100%|██████████| 4271/4271 [00:00<00:00, 1395704.90 examples/s]\n"
     ]
    },
    {
     "name": "stdout",
     "output_type": "stream",
     "text": [
      "Total characters in train: 1027732\n",
      "Total characters in validation: 342069\n",
      "Total characters in test: 317157\n"
     ]
    }
   ],
   "source": [
    "get_char_count(\"utilitarianism\")"
   ]
  },
  {
   "cell_type": "markdown",
   "metadata": {},
   "source": [
    "### ZNO dataset"
   ]
  },
  {
   "cell_type": "code",
   "execution_count": null,
   "metadata": {},
   "outputs": [
    {
     "name": "stdout",
     "output_type": "stream",
     "text": [
      "{'question': 'Реалізація імперської стратегії Росії в Першій світовій війні щодо «…злиття землі Ярослава Осмомисла, князів Данила і Романа з Імперією в політичному, соціальному та національному відношеннях…» стала можливою завдяки', 'answers': [{'marker': 'А', 'text': 'Карпатській операції.'}, {'marker': 'Б', 'text': 'Горліцькому прориву.'}, {'marker': 'В', 'text': 'Брусиловському прориву.'}, {'marker': 'Г', 'text': 'Галицькій битві.'}], 'correct_answers': ['Г'], 'subject': 'history-of-ukraine'}\n"
     ]
    },
    {
     "name": "stderr",
     "output_type": "stream",
     "text": [
      "/var/folders/h6/h54l3p8j0pv1w179xqnxjknm0000gp/T/ipykernel_65619/3518167621.py:5: SettingWithCopyWarning: \n",
      "A value is trying to be set on a copy of a slice from a DataFrame\n",
      "\n",
      "See the caveats in the documentation: https://pandas.pydata.org/pandas-docs/stable/user_guide/indexing.html#returning-a-view-versus-a-copy\n",
      "  test_zno_history_df.drop(columns=['subject'], inplace=True)\n",
      "/var/folders/h6/h54l3p8j0pv1w179xqnxjknm0000gp/T/ipykernel_65619/3518167621.py:8: SettingWithCopyWarning: \n",
      "A value is trying to be set on a copy of a slice from a DataFrame\n",
      "\n",
      "See the caveats in the documentation: https://pandas.pydata.org/pandas-docs/stable/user_guide/indexing.html#returning-a-view-versus-a-copy\n",
      "  test_zno_literature_df.drop(columns=['subject'], inplace=True)\n"
     ]
    }
   ],
   "source": [
    "test_zno = load_dataset(\"osyvokon/zno\", split=\"test\")\n",
    "print(test_zno[0])\n",
    "test_zno_df = pd.DataFrame(test_zno.to_dict())\n",
    "test_zno_history_df = test_zno_df[test_zno_df['subject'] == 'history-of-ukraine']\n",
    "test_zno_history_df.drop(columns=['subject'], inplace=True)\n",
    "test_zno_history_df.to_csv(\"../evaluation/datasets/zno/zno_history.csv\", index=False)\n",
    "test_zno_literature_df = test_zno_df[test_zno_df['subject'] == 'ukrainian-language-and-literature']\n",
    "test_zno_literature_df.drop(columns=['subject'], inplace=True)\n",
    "test_zno_literature_df.to_csv(\"../evaluation/datasets/zno/zno_ukr_lit.csv\", index=False)"
   ]
  },
  {
   "cell_type": "code",
   "execution_count": null,
   "metadata": {},
   "outputs": [],
   "source": []
  }
 ],
 "metadata": {
  "kernelspec": {
   "display_name": ".venv",
   "language": "python",
   "name": "python3"
  },
  "language_info": {
   "codemirror_mode": {
    "name": "ipython",
    "version": 3
   },
   "file_extension": ".py",
   "mimetype": "text/x-python",
   "name": "python",
   "nbconvert_exporter": "python",
   "pygments_lexer": "ipython3",
   "version": "3.12.0"
  }
 },
 "nbformat": 4,
 "nbformat_minor": 2
}
