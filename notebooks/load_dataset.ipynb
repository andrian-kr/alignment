{
 "cells": [
  {
   "cell_type": "code",
   "execution_count": 1,
   "metadata": {},
   "outputs": [
    {
     "name": "stderr",
     "output_type": "stream",
     "text": [
      "/Users/akravche/Projects/UCU/alignment/.venv/lib/python3.12/site-packages/tqdm/auto.py:21: TqdmWarning: IProgress not found. Please update jupyter and ipywidgets. See https://ipywidgets.readthedocs.io/en/stable/user_install.html\n",
      "  from .autonotebook import tqdm as notebook_tqdm\n"
     ]
    }
   ],
   "source": [
    "from datasets import load_dataset"
   ]
  },
  {
   "cell_type": "markdown",
   "metadata": {},
   "source": [
    "### Aya eval suite"
   ]
  },
  {
   "cell_type": "code",
   "execution_count": null,
   "metadata": {},
   "outputs": [],
   "source": [
    "aya_eval = load_dataset(\"CohereForAI/aya_evaluation_suite\", \"dolly_machine_translated\", split=\"test\")\n",
    "aya_eval_df = aya_eval.to_pandas()\n",
    "aya_eval_df_uk = aya_eval_df[aya_eval_df[\"language\"] == \"ukr\"]\n",
    "aya_eval_df_uk_subset = aya_eval_df_uk[[\"inputs\", \"targets\"]]\n",
    "aya_eval_df_uk_subset.to_csv(\"aya_eval_ukr.csv\", index=False)"
   ]
  },
  {
   "cell_type": "markdown",
   "metadata": {},
   "source": [
    "### ETHICS commonsense"
   ]
  },
  {
   "cell_type": "code",
   "execution_count": 3,
   "metadata": {},
   "outputs": [],
   "source": [
    "test_commonsense = load_dataset(\"hendrycks/ethics\", \"commonsense\", split=\"test\")\n",
    "test_commonsense_df = test_commonsense.to_pandas()\n",
    "test_commonsense_df = test_commonsense_df.head(1700)\n",
    "test_commonsense_df.to_csv(\"/Users/akravche/Projects/UCU/alignment/evaluation/datasets/ethics/ethics_commonsense.csv\", index=False)"
   ]
  }
 ],
 "metadata": {
  "kernelspec": {
   "display_name": ".venv",
   "language": "python",
   "name": "python3"
  },
  "language_info": {
   "codemirror_mode": {
    "name": "ipython",
    "version": 3
   },
   "file_extension": ".py",
   "mimetype": "text/x-python",
   "name": "python",
   "nbconvert_exporter": "python",
   "pygments_lexer": "ipython3",
   "version": "3.12.0"
  }
 },
 "nbformat": 4,
 "nbformat_minor": 2
}
