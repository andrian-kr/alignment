{
 "cells": [
  {
   "cell_type": "code",
   "execution_count": 8,
   "metadata": {},
   "outputs": [],
   "source": [
    "from datasets import load_dataset\n",
    "\n",
    "aya_eval = load_dataset(\"CohereForAI/aya_evaluation_suite\", \"dolly_machine_translated\", split=\"test\")"
   ]
  },
  {
   "cell_type": "code",
   "execution_count": 10,
   "metadata": {},
   "outputs": [],
   "source": [
    "aya_eval_df = aya_eval.to_pandas()\n",
    "aya_eval_df_uk = aya_eval_df[aya_eval_df[\"language\"] == \"ukr\"]\n",
    "aya_eval_df_uk_subset = aya_eval_df_uk[[\"inputs\",\"targets\"]]\n",
    "aya_eval_df_uk_subset.to_csv(\"aya_eval_ukr.csv\", index=False)"
   ]
  }
 ],
 "metadata": {
  "kernelspec": {
   "display_name": ".venv",
   "language": "python",
   "name": "python3"
  },
  "language_info": {
   "codemirror_mode": {
    "name": "ipython",
    "version": 3
   },
   "file_extension": ".py",
   "mimetype": "text/x-python",
   "name": "python",
   "nbconvert_exporter": "python",
   "pygments_lexer": "ipython3",
   "version": "3.10.14"
  }
 },
 "nbformat": 4,
 "nbformat_minor": 2
}
