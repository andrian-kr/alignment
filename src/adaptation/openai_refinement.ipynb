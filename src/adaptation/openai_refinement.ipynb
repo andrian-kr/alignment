{
 "cells": [
  {
   "cell_type": "code",
   "execution_count": 115,
   "metadata": {},
   "outputs": [
    {
     "data": {
      "text/plain": [
       "True"
      ]
     },
     "execution_count": 115,
     "metadata": {},
     "output_type": "execute_result"
    }
   ],
   "source": [
    "import pandas as pd\n",
    "import tiktoken\n",
    "from langchain_openai import ChatOpenAI\n",
    "from langchain.prompts import HumanMessagePromptTemplate, SystemMessagePromptTemplate, ChatPromptTemplate\n",
    "from dotenv import load_dotenv\n",
    "from tqdm import tqdm\n",
    "\n",
    "tqdm.pandas()\n",
    "load_dotenv()"
   ]
  },
  {
   "cell_type": "code",
   "execution_count": null,
   "metadata": {},
   "outputs": [],
   "source": [
    "sc_101_deepl_df = pd.read_csv('../datasets/social-chem-101/social-chem-101_care-harm_4_deepl_translated.csv')"
   ]
  },
  {
   "cell_type": "code",
   "execution_count": 120,
   "metadata": {},
   "outputs": [],
   "source": [
    "# system_message = SystemMessagePromptTemplate.from_template( \"\"\"\n",
    "# Ти досвідчений перекладач з англійської на українську, який враховує котекст та відмінки.\n",
    "# Твоя задача - переклад тексту з англійської на українську.\n",
    "                                                           \n",
    "# Важливі вимоги до перекладу:\n",
    "# - Уважно проаналізуй оригінальний текст.\n",
    "# - Збереження змісту: переклад повинен точно передавати значення оригіналу.\n",
    "# - Збереження стилю: переклад має зберігати стиль і тон оригінального тексту.\n",
    "# - Граматична правильність: переклад має бути природним і відповідати нормам української мови.                                                            \n",
    "# \"\"\"\n",
    "# )\n",
    "system_message = SystemMessagePromptTemplate.from_template( \"\"\"\n",
    "Ти досвідчений перекладач з англійської на українську.\n",
    "Твоя задача - переклад тексту з англійської на українську.                                                         \n",
    "\"\"\"\n",
    ")\n",
    "\n",
    "translation_refinement_humam_message =HumanMessagePromptTemplate.from_template( \"\"\"\n",
    "Оригінальний текст: \n",
    "{original_text} \n",
    "\n",
    "Поверни лише переклад. \n",
    "\"\"\"\n",
    ")\n",
    "\n",
    "chat_prompt = ChatPromptTemplate.from_messages([system_message, translation_refinement_humam_message])"
   ]
  },
  {
   "cell_type": "code",
   "execution_count": 63,
   "metadata": {},
   "outputs": [],
   "source": [
    "encoding = tiktoken.get_encoding(\"o200k_base\")"
   ]
  },
  {
   "cell_type": "code",
   "execution_count": 64,
   "metadata": {},
   "outputs": [
    {
     "name": "stdout",
     "output_type": "stream",
     "text": [
      "System: \n",
      "Ти досвідчений перекладач з англійської на українську, який враховує котекст та відмінки.\n",
      "Твоя задача - переклад тексту з англійської на українську.\n",
      "                                                           \n",
      "Важливі вимоги до перекладу:\n",
      "- Уважно проаналізуй оригінальний текст.\n",
      "- Збереження змісту: переклад повинен точно передавати значення оригіналу.\n",
      "- Збереження стилю: переклад має зберігати стиль і тон оригінального тексту.\n",
      "- Граматична правильність: переклад має бути природним і відповідати нормам української мови.                                                            \n",
      "\n",
      "Human: \n",
      "Оригінальний текст: \n",
      "Abusing children \n",
      "\n",
      "Поверни лише переклад. \n",
      "\n"
     ]
    }
   ],
   "source": [
    "input = chat_prompt.format(\n",
    "    original_text=sc_101_deepl_df.iloc[0]['action'],\n",
    "    current_translation=sc_101_deepl_df.iloc[0]['action_ukr'],\n",
    ")\n",
    "print(input)"
   ]
  },
  {
   "cell_type": "code",
   "execution_count": 65,
   "metadata": {},
   "outputs": [
    {
     "name": "stdout",
     "output_type": "stream",
     "text": [
      "Output tokens: 10\n",
      "Prompt tokens: 175\n"
     ]
    }
   ],
   "source": [
    "prompt_tokens = encoding.encode(input)\n",
    "output_tokens = encoding.encode(sc_101_deepl_df.iloc[0]['action_ukr'])\n",
    "print(f\"Output tokens: {len(output_tokens)}\")\n",
    "print(f\"Prompt tokens: {len(prompt_tokens)}\")"
   ]
  },
  {
   "cell_type": "markdown",
   "metadata": {},
   "source": [
    "163x3682 =~ 600k"
   ]
  },
  {
   "cell_type": "code",
   "execution_count": 66,
   "metadata": {},
   "outputs": [],
   "source": [
    "llm = ChatOpenAI(model='gpt-4o')"
   ]
  },
  {
   "cell_type": "code",
   "execution_count": 67,
   "metadata": {},
   "outputs": [],
   "source": [
    "def refine_translation(row):\n",
    "    chain = chat_prompt | llm\n",
    "    # response = chain.invoke({\"original_text\": row['action'], \"current_translation\": row['action_ukr']})\n",
    "    response = chain.invoke({\"original_text\": row['action']})\n",
    "    refined_translation = response.content.strip()\n",
    "    return refined_translation"
   ]
  },
  {
   "cell_type": "code",
   "execution_count": 74,
   "metadata": {},
   "outputs": [
    {
     "name": "stderr",
     "output_type": "stream",
     "text": [
      "100%|██████████| 11/11 [00:08<00:00,  1.36it/s]\n"
     ]
    }
   ],
   "source": [
    "sc_101_deepl_df.loc[20:30, 'action_ukr_gpt'] = sc_101_deepl_df.loc[20:30,:].progress_apply(refine_translation, axis=1)"
   ]
  },
  {
   "cell_type": "code",
   "execution_count": 75,
   "metadata": {},
   "outputs": [
    {
     "data": {
      "application/vnd.microsoft.datawrangler.viewer.v0+json": {
       "columns": [
        {
         "name": "index",
         "rawType": "int64",
         "type": "integer"
        },
        {
         "name": "action",
         "rawType": "object",
         "type": "string"
        },
        {
         "name": "action_ukr",
         "rawType": "object",
         "type": "string"
        },
        {
         "name": "action_ukr_gpt",
         "rawType": "object",
         "type": "string"
        }
       ],
       "conversionMethod": "pd.DataFrame",
       "ref": "9492fad0-4284-4332-b8ee-d5435b147eba",
       "rows": [
        [
         "20",
         "Being honest with your girlfriend about past hookups and relationships.",
         "Бути чесним зі своєю дівчиною про минулі зв'язки та стосунки.",
         "Бути чесним з дівчиною щодо минулих зв'язків і стосунків."
        ],
        [
         "21",
         "Being loyal to your friends.",
         "Бути вірним своїм друзям.",
         "Бути вірним своїм друзям."
        ],
        [
         "22",
         "Being mad at a significant other over small things",
         "Злитися на другу половинку через дрібниці",
         "Сердитися на близьку людину через дрібниці"
        ],
        [
         "23",
         "Being polite.",
         "Бути ввічливим.",
         "Бути ввічливим."
        ],
        [
         "24",
         "Being rude to a person that is just doing their job.",
         "Грубіянити людині, яка просто виконує свою роботу.",
         "Бути грубим до людини, яка просто виконує свою роботу."
        ],
        [
         "25",
         "Being supportive of your significant other when they are depressed.",
         "Підтримувати свою другу половинку, коли вона в депресії.",
         "Підтримувати свою другу половинку, коли вона в депресії."
        ],
        [
         "26",
         "Being there for a family member or friend that is terminally ill.",
         "Бути поруч з невиліковно хворим членом сім'ї або другом.",
         "Бути поруч із родичем або другом, який хворий на невиліковну хворобу."
        ],
        [
         "27",
         "Being too rough with girls.",
         "Бути занадто грубим з дівчатами.",
         "Бути занадто грубим з дівчатами."
        ],
        [
         "28",
         "Being upset if partner is not letting other partner have friends.",
         "Засмучуватися, якщо партнер не дозволяє іншому партнеру мати друзів.",
         "Засмучення, якщо партнер не дозволяє іншому партнеру мати друзів."
        ],
        [
         "29",
         "Bringing out an underage drinker.",
         "Виводимо неповнолітнього п'яницю.",
         "Вивести на світ неповнолітнього споживача алкоголю."
        ],
        [
         "30",
         "Bullying someone because they don't share your interests.",
         "Залякування когось через те, що він не поділяє твоїх інтересів.",
         "Знущання над кимось через те, що вони не поділяють ваших інтересів."
        ]
       ],
       "shape": {
        "columns": 3,
        "rows": 11
       }
      },
      "text/html": [
       "<div>\n",
       "<style scoped>\n",
       "    .dataframe tbody tr th:only-of-type {\n",
       "        vertical-align: middle;\n",
       "    }\n",
       "\n",
       "    .dataframe tbody tr th {\n",
       "        vertical-align: top;\n",
       "    }\n",
       "\n",
       "    .dataframe thead th {\n",
       "        text-align: right;\n",
       "    }\n",
       "</style>\n",
       "<table border=\"1\" class=\"dataframe\">\n",
       "  <thead>\n",
       "    <tr style=\"text-align: right;\">\n",
       "      <th></th>\n",
       "      <th>action</th>\n",
       "      <th>action_ukr</th>\n",
       "      <th>action_ukr_gpt</th>\n",
       "    </tr>\n",
       "  </thead>\n",
       "  <tbody>\n",
       "    <tr>\n",
       "      <th>20</th>\n",
       "      <td>Being honest with your girlfriend about past h...</td>\n",
       "      <td>Бути чесним зі своєю дівчиною про минулі зв'яз...</td>\n",
       "      <td>Бути чесним з дівчиною щодо минулих зв'язків і...</td>\n",
       "    </tr>\n",
       "    <tr>\n",
       "      <th>21</th>\n",
       "      <td>Being loyal to your friends.</td>\n",
       "      <td>Бути вірним своїм друзям.</td>\n",
       "      <td>Бути вірним своїм друзям.</td>\n",
       "    </tr>\n",
       "    <tr>\n",
       "      <th>22</th>\n",
       "      <td>Being mad at a significant other over small th...</td>\n",
       "      <td>Злитися на другу половинку через дрібниці</td>\n",
       "      <td>Сердитися на близьку людину через дрібниці</td>\n",
       "    </tr>\n",
       "    <tr>\n",
       "      <th>23</th>\n",
       "      <td>Being polite.</td>\n",
       "      <td>Бути ввічливим.</td>\n",
       "      <td>Бути ввічливим.</td>\n",
       "    </tr>\n",
       "    <tr>\n",
       "      <th>24</th>\n",
       "      <td>Being rude to a person that is just doing thei...</td>\n",
       "      <td>Грубіянити людині, яка просто виконує свою роб...</td>\n",
       "      <td>Бути грубим до людини, яка просто виконує свою...</td>\n",
       "    </tr>\n",
       "    <tr>\n",
       "      <th>25</th>\n",
       "      <td>Being supportive of your significant other whe...</td>\n",
       "      <td>Підтримувати свою другу половинку, коли вона в...</td>\n",
       "      <td>Підтримувати свою другу половинку, коли вона в...</td>\n",
       "    </tr>\n",
       "    <tr>\n",
       "      <th>26</th>\n",
       "      <td>Being there for a family member or friend that...</td>\n",
       "      <td>Бути поруч з невиліковно хворим членом сім'ї а...</td>\n",
       "      <td>Бути поруч із родичем або другом, який хворий ...</td>\n",
       "    </tr>\n",
       "    <tr>\n",
       "      <th>27</th>\n",
       "      <td>Being too rough with girls.</td>\n",
       "      <td>Бути занадто грубим з дівчатами.</td>\n",
       "      <td>Бути занадто грубим з дівчатами.</td>\n",
       "    </tr>\n",
       "    <tr>\n",
       "      <th>28</th>\n",
       "      <td>Being upset if partner is not letting other pa...</td>\n",
       "      <td>Засмучуватися, якщо партнер не дозволяє іншому...</td>\n",
       "      <td>Засмучення, якщо партнер не дозволяє іншому па...</td>\n",
       "    </tr>\n",
       "    <tr>\n",
       "      <th>29</th>\n",
       "      <td>Bringing out an underage drinker.</td>\n",
       "      <td>Виводимо неповнолітнього п'яницю.</td>\n",
       "      <td>Вивести на світ неповнолітнього споживача алко...</td>\n",
       "    </tr>\n",
       "    <tr>\n",
       "      <th>30</th>\n",
       "      <td>Bullying someone because they don't share your...</td>\n",
       "      <td>Залякування когось через те, що він не поділяє...</td>\n",
       "      <td>Знущання над кимось через те, що вони не поділ...</td>\n",
       "    </tr>\n",
       "  </tbody>\n",
       "</table>\n",
       "</div>"
      ],
      "text/plain": [
       "                                               action  \\\n",
       "20  Being honest with your girlfriend about past h...   \n",
       "21                       Being loyal to your friends.   \n",
       "22  Being mad at a significant other over small th...   \n",
       "23                                      Being polite.   \n",
       "24  Being rude to a person that is just doing thei...   \n",
       "25  Being supportive of your significant other whe...   \n",
       "26  Being there for a family member or friend that...   \n",
       "27                        Being too rough with girls.   \n",
       "28  Being upset if partner is not letting other pa...   \n",
       "29                  Bringing out an underage drinker.   \n",
       "30  Bullying someone because they don't share your...   \n",
       "\n",
       "                                           action_ukr  \\\n",
       "20  Бути чесним зі своєю дівчиною про минулі зв'яз...   \n",
       "21                          Бути вірним своїм друзям.   \n",
       "22          Злитися на другу половинку через дрібниці   \n",
       "23                                    Бути ввічливим.   \n",
       "24  Грубіянити людині, яка просто виконує свою роб...   \n",
       "25  Підтримувати свою другу половинку, коли вона в...   \n",
       "26  Бути поруч з невиліковно хворим членом сім'ї а...   \n",
       "27                   Бути занадто грубим з дівчатами.   \n",
       "28  Засмучуватися, якщо партнер не дозволяє іншому...   \n",
       "29                  Виводимо неповнолітнього п'яницю.   \n",
       "30  Залякування когось через те, що він не поділяє...   \n",
       "\n",
       "                                       action_ukr_gpt  \n",
       "20  Бути чесним з дівчиною щодо минулих зв'язків і...  \n",
       "21                          Бути вірним своїм друзям.  \n",
       "22         Сердитися на близьку людину через дрібниці  \n",
       "23                                    Бути ввічливим.  \n",
       "24  Бути грубим до людини, яка просто виконує свою...  \n",
       "25  Підтримувати свою другу половинку, коли вона в...  \n",
       "26  Бути поруч із родичем або другом, який хворий ...  \n",
       "27                   Бути занадто грубим з дівчатами.  \n",
       "28  Засмучення, якщо партнер не дозволяє іншому па...  \n",
       "29  Вивести на світ неповнолітнього споживача алко...  \n",
       "30  Знущання над кимось через те, що вони не поділ...  "
      ]
     },
     "execution_count": 75,
     "metadata": {},
     "output_type": "execute_result"
    }
   ],
   "source": [
    "sc_101_deepl_df.loc[20:30,['action', 'action_ukr', 'action_ukr_gpt']]"
   ]
  },
  {
   "cell_type": "code",
   "execution_count": null,
   "metadata": {},
   "outputs": [],
   "source": [
    "system_message2 = SystemMessagePromptTemplate.from_template( \"\"\"\n",
    "Ти досвідчений перекладач з англійської на українську, який враховує котекст та відмінки.\n",
    "Твоя задача - покращення перекладу тексту з англійської на українську.\n",
    "                                                           \n",
    "Важливі вимоги до покращення:\n",
    "- Аналіз: уважно проаналізуй оригінальний текст та зрозумій його зміст. Зверни увагу на фразеологізми, ідіоми та культурні особливості.\n",
    "- Збереження змісту: переклад повинен передавати значення оригіналу.\n",
    "- Увага до структури: переклад повинен бути зв'язним та зрозумілим.\n",
    "- Правильність: переклад має бути природним і відповідати нормам української мови.\n",
    "                                                          \n",
    "\"\"\"\n",
    ")\n",
    "\n",
    "translation_refinement_humam_message2 =HumanMessagePromptTemplate.from_template( \"\"\"\n",
    "Оригінальний текст: \n",
    "{original_text} \n",
    "                                                                               \n",
    "Варіанти перекладу:\n",
    "{current_translations}\n",
    "\n",
    "Поверни лише покращений переклад. \n",
    "\"\"\"\n",
    ")\n",
    "\n",
    "chat_prompt2 = ChatPromptTemplate.from_messages([system_message2, translation_refinement_humam_message2])"
   ]
  },
  {
   "cell_type": "code",
   "execution_count": 102,
   "metadata": {},
   "outputs": [],
   "source": [
    "def refine_translation2(row):\n",
    "    chain = chat_prompt2 | llm\n",
    "    current_translations = [\n",
    "        row['action_ukr'],\n",
    "        row['action_ukr_gpt'],\n",
    "    ]\n",
    "    response = chain.invoke({\"original_text\": row['action'], \"current_translations\": current_translations})\n",
    "    refined_translation = response.content.strip()\n",
    "    return refined_translation"
   ]
  },
  {
   "cell_type": "code",
   "execution_count": 103,
   "metadata": {},
   "outputs": [
    {
     "name": "stderr",
     "output_type": "stream",
     "text": [
      "100%|██████████| 11/11 [00:13<00:00,  1.18s/it]\n"
     ]
    }
   ],
   "source": [
    "sc_101_deepl_df.loc[20:30, 'action_ukr_gpt2'] = sc_101_deepl_df.loc[20:30,:].progress_apply(refine_translation2, axis=1)"
   ]
  },
  {
   "cell_type": "code",
   "execution_count": 105,
   "metadata": {},
   "outputs": [
    {
     "data": {
      "application/vnd.microsoft.datawrangler.viewer.v0+json": {
       "columns": [
        {
         "name": "index",
         "rawType": "int64",
         "type": "integer"
        },
        {
         "name": "action",
         "rawType": "object",
         "type": "string"
        },
        {
         "name": "action_ukr",
         "rawType": "object",
         "type": "string"
        },
        {
         "name": "action_ukr_gpt",
         "rawType": "object",
         "type": "string"
        },
        {
         "name": "action_ukr_gpt2",
         "rawType": "object",
         "type": "string"
        }
       ],
       "conversionMethod": "pd.DataFrame",
       "ref": "d0d8191a-cd3e-4193-8d9c-68ae73b554ba",
       "rows": [
        [
         "20",
         "Being honest with your girlfriend about past hookups and relationships.",
         "Бути чесним зі своєю дівчиною про минулі зв'язки та стосунки.",
         "Бути чесним з дівчиною щодо минулих зв'язків і стосунків.",
         "Бути відвертим зі своєю дівчиною щодо колишніх зв'язків і стосунків."
        ],
        [
         "21",
         "Being loyal to your friends.",
         "Бути вірним своїм друзям.",
         "Бути вірним своїм друзям.",
         "Залишатися вірним своїм друзям."
        ],
        [
         "22",
         "Being mad at a significant other over small things",
         "Злитися на другу половинку через дрібниці",
         "Сердитися на близьку людину через дрібниці",
         "Сердитися на кохану людину через дрібниці"
        ],
        [
         "23",
         "Being polite.",
         "Бути ввічливим.",
         "Бути ввічливим.",
         "Виявляти ввічливість."
        ],
        [
         "24",
         "Being rude to a person that is just doing their job.",
         "Грубіянити людині, яка просто виконує свою роботу.",
         "Бути грубим до людини, яка просто виконує свою роботу.",
         "Грубіянити людині, яка просто виконує свої обов'язки."
        ],
        [
         "25",
         "Being supportive of your significant other when they are depressed.",
         "Підтримувати свою другу половинку, коли вона в депресії.",
         "Підтримувати свою другу половинку, коли вона в депресії.",
         "Підтримувати свою кохану людину, коли вона у депресії."
        ],
        [
         "26",
         "Being there for a family member or friend that is terminally ill.",
         "Бути поруч з невиліковно хворим членом сім'ї або другом.",
         "Бути поруч із родичем або другом, який хворий на невиліковну хворобу.",
         "\"Підтримувати невиліковно хворого члена сім'ї або друга.\""
        ],
        [
         "27",
         "Being too rough with girls.",
         "Бути занадто грубим з дівчатами.",
         "Бути занадто грубим з дівчатами.",
         "Поведінка надто груба щодо дівчат."
        ],
        [
         "28",
         "Being upset if partner is not letting other partner have friends.",
         "Засмучуватися, якщо партнер не дозволяє іншому партнеру мати друзів.",
         "Засмучення, якщо партнер не дозволяє іншому партнеру мати друзів.",
         "Засмучення, коли партнер не дозволяє іншому мати друзів."
        ],
        [
         "29",
         "Bringing out an underage drinker.",
         "Виводимо неповнолітнього п'яницю.",
         "Вивести на світ неповнолітнього споживача алкоголю.",
         "Виявлення неповнолітнього споживача алкоголю."
        ],
        [
         "30",
         "Bullying someone because they don't share your interests.",
         "Залякування когось через те, що він не поділяє твоїх інтересів.",
         "Знущання над кимось через те, що вони не поділяють ваших інтересів.",
         "Знущання над кимось через те, що вони не мають спільних із вами інтересів."
        ]
       ],
       "shape": {
        "columns": 4,
        "rows": 11
       }
      },
      "text/html": [
       "<div>\n",
       "<style scoped>\n",
       "    .dataframe tbody tr th:only-of-type {\n",
       "        vertical-align: middle;\n",
       "    }\n",
       "\n",
       "    .dataframe tbody tr th {\n",
       "        vertical-align: top;\n",
       "    }\n",
       "\n",
       "    .dataframe thead th {\n",
       "        text-align: right;\n",
       "    }\n",
       "</style>\n",
       "<table border=\"1\" class=\"dataframe\">\n",
       "  <thead>\n",
       "    <tr style=\"text-align: right;\">\n",
       "      <th></th>\n",
       "      <th>action</th>\n",
       "      <th>action_ukr</th>\n",
       "      <th>action_ukr_gpt</th>\n",
       "      <th>action_ukr_gpt2</th>\n",
       "    </tr>\n",
       "  </thead>\n",
       "  <tbody>\n",
       "    <tr>\n",
       "      <th>20</th>\n",
       "      <td>Being honest with your girlfriend about past h...</td>\n",
       "      <td>Бути чесним зі своєю дівчиною про минулі зв'яз...</td>\n",
       "      <td>Бути чесним з дівчиною щодо минулих зв'язків і...</td>\n",
       "      <td>Бути відвертим зі своєю дівчиною щодо колишніх...</td>\n",
       "    </tr>\n",
       "    <tr>\n",
       "      <th>21</th>\n",
       "      <td>Being loyal to your friends.</td>\n",
       "      <td>Бути вірним своїм друзям.</td>\n",
       "      <td>Бути вірним своїм друзям.</td>\n",
       "      <td>Залишатися вірним своїм друзям.</td>\n",
       "    </tr>\n",
       "    <tr>\n",
       "      <th>22</th>\n",
       "      <td>Being mad at a significant other over small th...</td>\n",
       "      <td>Злитися на другу половинку через дрібниці</td>\n",
       "      <td>Сердитися на близьку людину через дрібниці</td>\n",
       "      <td>Сердитися на кохану людину через дрібниці</td>\n",
       "    </tr>\n",
       "    <tr>\n",
       "      <th>23</th>\n",
       "      <td>Being polite.</td>\n",
       "      <td>Бути ввічливим.</td>\n",
       "      <td>Бути ввічливим.</td>\n",
       "      <td>Виявляти ввічливість.</td>\n",
       "    </tr>\n",
       "    <tr>\n",
       "      <th>24</th>\n",
       "      <td>Being rude to a person that is just doing thei...</td>\n",
       "      <td>Грубіянити людині, яка просто виконує свою роб...</td>\n",
       "      <td>Бути грубим до людини, яка просто виконує свою...</td>\n",
       "      <td>Грубіянити людині, яка просто виконує свої обо...</td>\n",
       "    </tr>\n",
       "    <tr>\n",
       "      <th>25</th>\n",
       "      <td>Being supportive of your significant other whe...</td>\n",
       "      <td>Підтримувати свою другу половинку, коли вона в...</td>\n",
       "      <td>Підтримувати свою другу половинку, коли вона в...</td>\n",
       "      <td>Підтримувати свою кохану людину, коли вона у д...</td>\n",
       "    </tr>\n",
       "    <tr>\n",
       "      <th>26</th>\n",
       "      <td>Being there for a family member or friend that...</td>\n",
       "      <td>Бути поруч з невиліковно хворим членом сім'ї а...</td>\n",
       "      <td>Бути поруч із родичем або другом, який хворий ...</td>\n",
       "      <td>\"Підтримувати невиліковно хворого члена сім'ї ...</td>\n",
       "    </tr>\n",
       "    <tr>\n",
       "      <th>27</th>\n",
       "      <td>Being too rough with girls.</td>\n",
       "      <td>Бути занадто грубим з дівчатами.</td>\n",
       "      <td>Бути занадто грубим з дівчатами.</td>\n",
       "      <td>Поведінка надто груба щодо дівчат.</td>\n",
       "    </tr>\n",
       "    <tr>\n",
       "      <th>28</th>\n",
       "      <td>Being upset if partner is not letting other pa...</td>\n",
       "      <td>Засмучуватися, якщо партнер не дозволяє іншому...</td>\n",
       "      <td>Засмучення, якщо партнер не дозволяє іншому па...</td>\n",
       "      <td>Засмучення, коли партнер не дозволяє іншому ма...</td>\n",
       "    </tr>\n",
       "    <tr>\n",
       "      <th>29</th>\n",
       "      <td>Bringing out an underage drinker.</td>\n",
       "      <td>Виводимо неповнолітнього п'яницю.</td>\n",
       "      <td>Вивести на світ неповнолітнього споживача алко...</td>\n",
       "      <td>Виявлення неповнолітнього споживача алкоголю.</td>\n",
       "    </tr>\n",
       "    <tr>\n",
       "      <th>30</th>\n",
       "      <td>Bullying someone because they don't share your...</td>\n",
       "      <td>Залякування когось через те, що він не поділяє...</td>\n",
       "      <td>Знущання над кимось через те, що вони не поділ...</td>\n",
       "      <td>Знущання над кимось через те, що вони не мають...</td>\n",
       "    </tr>\n",
       "  </tbody>\n",
       "</table>\n",
       "</div>"
      ],
      "text/plain": [
       "                                               action  \\\n",
       "20  Being honest with your girlfriend about past h...   \n",
       "21                       Being loyal to your friends.   \n",
       "22  Being mad at a significant other over small th...   \n",
       "23                                      Being polite.   \n",
       "24  Being rude to a person that is just doing thei...   \n",
       "25  Being supportive of your significant other whe...   \n",
       "26  Being there for a family member or friend that...   \n",
       "27                        Being too rough with girls.   \n",
       "28  Being upset if partner is not letting other pa...   \n",
       "29                  Bringing out an underage drinker.   \n",
       "30  Bullying someone because they don't share your...   \n",
       "\n",
       "                                           action_ukr  \\\n",
       "20  Бути чесним зі своєю дівчиною про минулі зв'яз...   \n",
       "21                          Бути вірним своїм друзям.   \n",
       "22          Злитися на другу половинку через дрібниці   \n",
       "23                                    Бути ввічливим.   \n",
       "24  Грубіянити людині, яка просто виконує свою роб...   \n",
       "25  Підтримувати свою другу половинку, коли вона в...   \n",
       "26  Бути поруч з невиліковно хворим членом сім'ї а...   \n",
       "27                   Бути занадто грубим з дівчатами.   \n",
       "28  Засмучуватися, якщо партнер не дозволяє іншому...   \n",
       "29                  Виводимо неповнолітнього п'яницю.   \n",
       "30  Залякування когось через те, що він не поділяє...   \n",
       "\n",
       "                                       action_ukr_gpt  \\\n",
       "20  Бути чесним з дівчиною щодо минулих зв'язків і...   \n",
       "21                          Бути вірним своїм друзям.   \n",
       "22         Сердитися на близьку людину через дрібниці   \n",
       "23                                    Бути ввічливим.   \n",
       "24  Бути грубим до людини, яка просто виконує свою...   \n",
       "25  Підтримувати свою другу половинку, коли вона в...   \n",
       "26  Бути поруч із родичем або другом, який хворий ...   \n",
       "27                   Бути занадто грубим з дівчатами.   \n",
       "28  Засмучення, якщо партнер не дозволяє іншому па...   \n",
       "29  Вивести на світ неповнолітнього споживача алко...   \n",
       "30  Знущання над кимось через те, що вони не поділ...   \n",
       "\n",
       "                                      action_ukr_gpt2  \n",
       "20  Бути відвертим зі своєю дівчиною щодо колишніх...  \n",
       "21                    Залишатися вірним своїм друзям.  \n",
       "22          Сердитися на кохану людину через дрібниці  \n",
       "23                              Виявляти ввічливість.  \n",
       "24  Грубіянити людині, яка просто виконує свої обо...  \n",
       "25  Підтримувати свою кохану людину, коли вона у д...  \n",
       "26  \"Підтримувати невиліковно хворого члена сім'ї ...  \n",
       "27                 Поведінка надто груба щодо дівчат.  \n",
       "28  Засмучення, коли партнер не дозволяє іншому ма...  \n",
       "29      Виявлення неповнолітнього споживача алкоголю.  \n",
       "30  Знущання над кимось через те, що вони не мають...  "
      ]
     },
     "execution_count": 105,
     "metadata": {},
     "output_type": "execute_result"
    }
   ],
   "source": [
    "sc_101_deepl_df.loc[20:30,['action', 'action_ukr', 'action_ukr_gpt', 'action_ukr_gpt2']]"
   ]
  },
  {
   "cell_type": "code",
   "execution_count": 106,
   "metadata": {},
   "outputs": [],
   "source": [
    "from langchain_anthropic import ChatAnthropic"
   ]
  },
  {
   "cell_type": "code",
   "execution_count": 125,
   "metadata": {},
   "outputs": [],
   "source": [
    "import os\n",
    "a_llm = ChatAnthropic(model='claude-3-5-haiku-latest')"
   ]
  },
  {
   "cell_type": "code",
   "execution_count": 126,
   "metadata": {},
   "outputs": [],
   "source": [
    "def refine_translation3(row):\n",
    "    chain = chat_prompt | a_llm\n",
    "    # response = chain.invoke({\"original_text\": row['action'], \"current_translation\": row['action_ukr']})\n",
    "    response = chain.invoke({\"original_text\": row['action']})\n",
    "    refined_translation = response.content.strip()\n",
    "    return refined_translation"
   ]
  },
  {
   "cell_type": "code",
   "execution_count": 127,
   "metadata": {},
   "outputs": [
    {
     "name": "stderr",
     "output_type": "stream",
     "text": [
      "100%|██████████| 11/11 [00:11<00:00,  1.08s/it]\n"
     ]
    }
   ],
   "source": [
    "sc_101_deepl_df.loc[20:30, 'action_ukr_claude3.5'] = sc_101_deepl_df.loc[20:30,:].progress_apply(refine_translation3, axis=1)"
   ]
  },
  {
   "cell_type": "code",
   "execution_count": 128,
   "metadata": {},
   "outputs": [
    {
     "data": {
      "application/vnd.microsoft.datawrangler.viewer.v0+json": {
       "columns": [
        {
         "name": "index",
         "rawType": "int64",
         "type": "integer"
        },
        {
         "name": "action",
         "rawType": "object",
         "type": "string"
        },
        {
         "name": "action_ukr",
         "rawType": "object",
         "type": "string"
        },
        {
         "name": "action_ukr_gpt2",
         "rawType": "object",
         "type": "string"
        },
        {
         "name": "action_ukr_claude3.7",
         "rawType": "object",
         "type": "string"
        },
        {
         "name": "action_ukr_claude3.5",
         "rawType": "object",
         "type": "string"
        }
       ],
       "conversionMethod": "pd.DataFrame",
       "ref": "e55ffd98-9167-4424-a020-2c924ba15a0d",
       "rows": [
        [
         "20",
         "Being honest with your girlfriend about past hookups and relationships.",
         "Бути чесним зі своєю дівчиною про минулі зв'язки та стосунки.",
         "Бути відвертим зі своєю дівчиною щодо колишніх зв'язків і стосунків.",
         "Бути чесним зі своєю дівчиною щодо минулих інтимних зв'язків та стосунків.",
         "Бути чесним з дівчиною про минулі short-time стосунки та попередні відносини."
        ],
        [
         "21",
         "Being loyal to your friends.",
         "Бути вірним своїм друзям.",
         "Залишатися вірним своїм друзям.",
         "Бути відданим своїм друзям.",
         "Бути вірним своїм друзям."
        ],
        [
         "22",
         "Being mad at a significant other over small things",
         "Злитися на другу половинку через дрібниці",
         "Сердитися на кохану людину через дрібниці",
         "Злитися на кохану людину через дрібниці",
         "Бути злим на близьку людину через дрібниці"
        ],
        [
         "23",
         "Being polite.",
         "Бути ввічливим.",
         "Виявляти ввічливість.",
         "Бути ввічливим.",
         "Бути ввічливим."
        ],
        [
         "24",
         "Being rude to a person that is just doing their job.",
         "Грубіянити людині, яка просто виконує свою роботу.",
         "Грубіянити людині, яка просто виконує свої обов'язки.",
         "Бути грубим до людини, яка просто виконує свою роботу.",
         "Бути грубим з людиною, яка просто виконує свою роботу."
        ],
        [
         "25",
         "Being supportive of your significant other when they are depressed.",
         "Підтримувати свою другу половинку, коли вона в депресії.",
         "Підтримувати свою кохану людину, коли вона у депресії.",
         "Підтримувати свого партнера, коли він у депресії.",
         "Підтримка вашого близького, коли він перебуває у стані депресії."
        ],
        [
         "26",
         "Being there for a family member or friend that is terminally ill.",
         "Бути поруч з невиліковно хворим членом сім'ї або другом.",
         "\"Підтримувати невиліковно хворого члена сім'ї або друга.\"",
         "Бути поруч із смертельно хворим членом родини чи другом.",
         "Бути поруч з членом сім'ї або другом, який невиліковно хворий."
        ],
        [
         "27",
         "Being too rough with girls.",
         "Бути занадто грубим з дівчатами.",
         "Поведінка надто груба щодо дівчат.",
         "Бути занадто грубим з дівчатами.",
         "Бути надто грубим з дівчатами."
        ],
        [
         "28",
         "Being upset if partner is not letting other partner have friends.",
         "Засмучуватися, якщо партнер не дозволяє іншому партнеру мати друзів.",
         "Засмучення, коли партнер не дозволяє іншому мати друзів.",
         "Засмучуватися, якщо партнер не дозволяє іншому партнеру мати друзів.",
         "Бути засудженим, якщо партнер не дозволяє іншому партнеру мати друзів."
        ],
        [
         "29",
         "Bringing out an underage drinker.",
         "Виводимо неповнолітнього п'яницю.",
         "Виявлення неповнолітнього споживача алкоголю.",
         "Викриття неповнолітнього, який вживає алкоголь.",
         "Виведення неповнолітнього п'яниці."
        ],
        [
         "30",
         "Bullying someone because they don't share your interests.",
         "Залякування когось через те, що він не поділяє твоїх інтересів.",
         "Знущання над кимось через те, що вони не мають спільних із вами інтересів.",
         "Цькування когось через те, що вони не поділяють ваших інтересів.",
         "Цькування когось через те, що він не поділяє твої інтереси."
        ]
       ],
       "shape": {
        "columns": 5,
        "rows": 11
       }
      },
      "text/html": [
       "<div>\n",
       "<style scoped>\n",
       "    .dataframe tbody tr th:only-of-type {\n",
       "        vertical-align: middle;\n",
       "    }\n",
       "\n",
       "    .dataframe tbody tr th {\n",
       "        vertical-align: top;\n",
       "    }\n",
       "\n",
       "    .dataframe thead th {\n",
       "        text-align: right;\n",
       "    }\n",
       "</style>\n",
       "<table border=\"1\" class=\"dataframe\">\n",
       "  <thead>\n",
       "    <tr style=\"text-align: right;\">\n",
       "      <th></th>\n",
       "      <th>action</th>\n",
       "      <th>action_ukr</th>\n",
       "      <th>action_ukr_gpt2</th>\n",
       "      <th>action_ukr_claude3.7</th>\n",
       "      <th>action_ukr_claude3.5</th>\n",
       "    </tr>\n",
       "  </thead>\n",
       "  <tbody>\n",
       "    <tr>\n",
       "      <th>20</th>\n",
       "      <td>Being honest with your girlfriend about past h...</td>\n",
       "      <td>Бути чесним зі своєю дівчиною про минулі зв'яз...</td>\n",
       "      <td>Бути відвертим зі своєю дівчиною щодо колишніх...</td>\n",
       "      <td>Бути чесним зі своєю дівчиною щодо минулих інт...</td>\n",
       "      <td>Бути чесним з дівчиною про минулі short-time с...</td>\n",
       "    </tr>\n",
       "    <tr>\n",
       "      <th>21</th>\n",
       "      <td>Being loyal to your friends.</td>\n",
       "      <td>Бути вірним своїм друзям.</td>\n",
       "      <td>Залишатися вірним своїм друзям.</td>\n",
       "      <td>Бути відданим своїм друзям.</td>\n",
       "      <td>Бути вірним своїм друзям.</td>\n",
       "    </tr>\n",
       "    <tr>\n",
       "      <th>22</th>\n",
       "      <td>Being mad at a significant other over small th...</td>\n",
       "      <td>Злитися на другу половинку через дрібниці</td>\n",
       "      <td>Сердитися на кохану людину через дрібниці</td>\n",
       "      <td>Злитися на кохану людину через дрібниці</td>\n",
       "      <td>Бути злим на близьку людину через дрібниці</td>\n",
       "    </tr>\n",
       "    <tr>\n",
       "      <th>23</th>\n",
       "      <td>Being polite.</td>\n",
       "      <td>Бути ввічливим.</td>\n",
       "      <td>Виявляти ввічливість.</td>\n",
       "      <td>Бути ввічливим.</td>\n",
       "      <td>Бути ввічливим.</td>\n",
       "    </tr>\n",
       "    <tr>\n",
       "      <th>24</th>\n",
       "      <td>Being rude to a person that is just doing thei...</td>\n",
       "      <td>Грубіянити людині, яка просто виконує свою роб...</td>\n",
       "      <td>Грубіянити людині, яка просто виконує свої обо...</td>\n",
       "      <td>Бути грубим до людини, яка просто виконує свою...</td>\n",
       "      <td>Бути грубим з людиною, яка просто виконує свою...</td>\n",
       "    </tr>\n",
       "    <tr>\n",
       "      <th>25</th>\n",
       "      <td>Being supportive of your significant other whe...</td>\n",
       "      <td>Підтримувати свою другу половинку, коли вона в...</td>\n",
       "      <td>Підтримувати свою кохану людину, коли вона у д...</td>\n",
       "      <td>Підтримувати свого партнера, коли він у депресії.</td>\n",
       "      <td>Підтримка вашого близького, коли він перебуває...</td>\n",
       "    </tr>\n",
       "    <tr>\n",
       "      <th>26</th>\n",
       "      <td>Being there for a family member or friend that...</td>\n",
       "      <td>Бути поруч з невиліковно хворим членом сім'ї а...</td>\n",
       "      <td>\"Підтримувати невиліковно хворого члена сім'ї ...</td>\n",
       "      <td>Бути поруч із смертельно хворим членом родини ...</td>\n",
       "      <td>Бути поруч з членом сім'ї або другом, який нев...</td>\n",
       "    </tr>\n",
       "    <tr>\n",
       "      <th>27</th>\n",
       "      <td>Being too rough with girls.</td>\n",
       "      <td>Бути занадто грубим з дівчатами.</td>\n",
       "      <td>Поведінка надто груба щодо дівчат.</td>\n",
       "      <td>Бути занадто грубим з дівчатами.</td>\n",
       "      <td>Бути надто грубим з дівчатами.</td>\n",
       "    </tr>\n",
       "    <tr>\n",
       "      <th>28</th>\n",
       "      <td>Being upset if partner is not letting other pa...</td>\n",
       "      <td>Засмучуватися, якщо партнер не дозволяє іншому...</td>\n",
       "      <td>Засмучення, коли партнер не дозволяє іншому ма...</td>\n",
       "      <td>Засмучуватися, якщо партнер не дозволяє іншому...</td>\n",
       "      <td>Бути засудженим, якщо партнер не дозволяє іншо...</td>\n",
       "    </tr>\n",
       "    <tr>\n",
       "      <th>29</th>\n",
       "      <td>Bringing out an underage drinker.</td>\n",
       "      <td>Виводимо неповнолітнього п'яницю.</td>\n",
       "      <td>Виявлення неповнолітнього споживача алкоголю.</td>\n",
       "      <td>Викриття неповнолітнього, який вживає алкоголь.</td>\n",
       "      <td>Виведення неповнолітнього п'яниці.</td>\n",
       "    </tr>\n",
       "    <tr>\n",
       "      <th>30</th>\n",
       "      <td>Bullying someone because they don't share your...</td>\n",
       "      <td>Залякування когось через те, що він не поділяє...</td>\n",
       "      <td>Знущання над кимось через те, що вони не мають...</td>\n",
       "      <td>Цькування когось через те, що вони не поділяют...</td>\n",
       "      <td>Цькування когось через те, що він не поділяє т...</td>\n",
       "    </tr>\n",
       "  </tbody>\n",
       "</table>\n",
       "</div>"
      ],
      "text/plain": [
       "                                               action  \\\n",
       "20  Being honest with your girlfriend about past h...   \n",
       "21                       Being loyal to your friends.   \n",
       "22  Being mad at a significant other over small th...   \n",
       "23                                      Being polite.   \n",
       "24  Being rude to a person that is just doing thei...   \n",
       "25  Being supportive of your significant other whe...   \n",
       "26  Being there for a family member or friend that...   \n",
       "27                        Being too rough with girls.   \n",
       "28  Being upset if partner is not letting other pa...   \n",
       "29                  Bringing out an underage drinker.   \n",
       "30  Bullying someone because they don't share your...   \n",
       "\n",
       "                                           action_ukr  \\\n",
       "20  Бути чесним зі своєю дівчиною про минулі зв'яз...   \n",
       "21                          Бути вірним своїм друзям.   \n",
       "22          Злитися на другу половинку через дрібниці   \n",
       "23                                    Бути ввічливим.   \n",
       "24  Грубіянити людині, яка просто виконує свою роб...   \n",
       "25  Підтримувати свою другу половинку, коли вона в...   \n",
       "26  Бути поруч з невиліковно хворим членом сім'ї а...   \n",
       "27                   Бути занадто грубим з дівчатами.   \n",
       "28  Засмучуватися, якщо партнер не дозволяє іншому...   \n",
       "29                  Виводимо неповнолітнього п'яницю.   \n",
       "30  Залякування когось через те, що він не поділяє...   \n",
       "\n",
       "                                      action_ukr_gpt2  \\\n",
       "20  Бути відвертим зі своєю дівчиною щодо колишніх...   \n",
       "21                    Залишатися вірним своїм друзям.   \n",
       "22          Сердитися на кохану людину через дрібниці   \n",
       "23                              Виявляти ввічливість.   \n",
       "24  Грубіянити людині, яка просто виконує свої обо...   \n",
       "25  Підтримувати свою кохану людину, коли вона у д...   \n",
       "26  \"Підтримувати невиліковно хворого члена сім'ї ...   \n",
       "27                 Поведінка надто груба щодо дівчат.   \n",
       "28  Засмучення, коли партнер не дозволяє іншому ма...   \n",
       "29      Виявлення неповнолітнього споживача алкоголю.   \n",
       "30  Знущання над кимось через те, що вони не мають...   \n",
       "\n",
       "                                 action_ukr_claude3.7  \\\n",
       "20  Бути чесним зі своєю дівчиною щодо минулих інт...   \n",
       "21                        Бути відданим своїм друзям.   \n",
       "22            Злитися на кохану людину через дрібниці   \n",
       "23                                    Бути ввічливим.   \n",
       "24  Бути грубим до людини, яка просто виконує свою...   \n",
       "25  Підтримувати свого партнера, коли він у депресії.   \n",
       "26  Бути поруч із смертельно хворим членом родини ...   \n",
       "27                   Бути занадто грубим з дівчатами.   \n",
       "28  Засмучуватися, якщо партнер не дозволяє іншому...   \n",
       "29    Викриття неповнолітнього, який вживає алкоголь.   \n",
       "30  Цькування когось через те, що вони не поділяют...   \n",
       "\n",
       "                                 action_ukr_claude3.5  \n",
       "20  Бути чесним з дівчиною про минулі short-time с...  \n",
       "21                          Бути вірним своїм друзям.  \n",
       "22         Бути злим на близьку людину через дрібниці  \n",
       "23                                    Бути ввічливим.  \n",
       "24  Бути грубим з людиною, яка просто виконує свою...  \n",
       "25  Підтримка вашого близького, коли він перебуває...  \n",
       "26  Бути поруч з членом сім'ї або другом, який нев...  \n",
       "27                     Бути надто грубим з дівчатами.  \n",
       "28  Бути засудженим, якщо партнер не дозволяє іншо...  \n",
       "29                 Виведення неповнолітнього п'яниці.  \n",
       "30  Цькування когось через те, що він не поділяє т...  "
      ]
     },
     "execution_count": 128,
     "metadata": {},
     "output_type": "execute_result"
    }
   ],
   "source": [
    "sc_101_deepl_df.loc[20:30,['action', 'action_ukr','action_ukr_gpt2', 'action_ukr_claude3.7', 'action_ukr_claude3.5']]"
   ]
  },
  {
   "cell_type": "code",
   "execution_count": 131,
   "metadata": {},
   "outputs": [],
   "source": [
    "# subset_df = sc_101_deepl_df[['action', 'action_ukr', 'action_ukr_gpt', 'action_ukr_gpt2', 'action_ukr_claude3.7', 'action_ukr_claude3.5']].head(30)\n",
    "subset_df2 = sc_101_deepl_df.head(30)\n",
    "subset_df2.to_csv('test_translation2.csv', index=False)"
   ]
  },
  {
   "cell_type": "code",
   "execution_count": 132,
   "metadata": {},
   "outputs": [
    {
     "name": "stdout",
     "output_type": "stream",
     "text": [
      "{\"input_tokens\":85}\n"
     ]
    },
    {
     "name": "stderr",
     "output_type": "stream",
     "text": [
      "/var/folders/h6/h54l3p8j0pv1w179xqnxjknm0000gp/T/ipykernel_23798/4173039767.py:22: PydanticDeprecatedSince20: The `json` method is deprecated; use `model_dump_json` instead. Deprecated in Pydantic V2.0 to be removed in V3.0. See Pydantic V2 Migration Guide at https://errors.pydantic.dev/2.10/migration/\n",
      "  print(response.json())\n"
     ]
    }
   ],
   "source": [
    "import anthropic\n",
    "\n",
    "client = anthropic.Anthropic()\n",
    "\n",
    "response = client.messages.count_tokens(\n",
    "    model=\"claude-3-7-sonnet-latest\",\n",
    "    system=\"\"\"\n",
    "Ти досвідчений перекладач з англійської на українську.\n",
    "Твоя задача - переклад тексту з англійської на українську.    \n",
    "\"\"\",\n",
    "    messages=[{\n",
    "        \"role\": \"user\",\n",
    "        \"content\": \"\"\"\n",
    "Оригінальний текст: \n",
    "Bringing out an underage drinker. \n",
    "\n",
    "Поверни лише переклад. \n",
    "\"\"\"\n",
    "    }],\n",
    ")\n",
    "\n",
    "print(response.json())"
   ]
  },
  {
   "cell_type": "code",
   "execution_count": null,
   "metadata": {},
   "outputs": [],
   "source": []
  }
 ],
 "metadata": {
  "kernelspec": {
   "display_name": ".venv",
   "language": "python",
   "name": "python3"
  },
  "language_info": {
   "codemirror_mode": {
    "name": "ipython",
    "version": 3
   },
   "file_extension": ".py",
   "mimetype": "text/x-python",
   "name": "python",
   "nbconvert_exporter": "python",
   "pygments_lexer": "ipython3",
   "version": "3.12.0"
  }
 },
 "nbformat": 4,
 "nbformat_minor": 2
}
