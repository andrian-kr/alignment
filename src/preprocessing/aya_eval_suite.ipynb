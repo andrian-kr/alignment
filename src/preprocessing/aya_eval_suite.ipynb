{
 "cells": [
  {
   "cell_type": "markdown",
   "id": "e5c1191d",
   "metadata": {},
   "source": [
    "# Aya-evaluation-suite dataset"
   ]
  },
  {
   "cell_type": "code",
   "execution_count": 1,
   "id": "fdb4d982",
   "metadata": {},
   "outputs": [
    {
     "name": "stderr",
     "output_type": "stream",
     "text": [
      "/Users/akravche/Projects/UCU/alignment/.venv/lib/python3.12/site-packages/tqdm/auto.py:21: TqdmWarning: IProgress not found. Please update jupyter and ipywidgets. See https://ipywidgets.readthedocs.io/en/stable/user_install.html\n",
      "  from .autonotebook import tqdm as notebook_tqdm\n"
     ]
    }
   ],
   "source": [
    "from datasets import load_dataset\n",
    "from dotenv import load_dotenv\n",
    "import os\n",
    "import sys"
   ]
  },
  {
   "cell_type": "markdown",
   "id": "e66855dd",
   "metadata": {},
   "source": [
    "#### Setup paths"
   ]
  },
  {
   "cell_type": "code",
   "execution_count": 3,
   "id": "6c027761",
   "metadata": {},
   "outputs": [],
   "source": [
    "load_dotenv()\n",
    "\n",
    "\n",
    "parent_dir = os.path.abspath(os.path.join(os.getcwd(), \"..\"))\n",
    "sys.path.append(parent_dir)\n",
    "\n",
    "\n",
    "datasets_dir=os.getenv(\"DATASETS_DIR\")\n",
    "datasets_dir_path=os.path.join(parent_dir, datasets_dir)"
   ]
  },
  {
   "cell_type": "markdown",
   "id": "2a179961",
   "metadata": {},
   "source": [
    "### Load dolly_machine_translated subset"
   ]
  },
  {
   "cell_type": "code",
   "execution_count": 4,
   "id": "5deabe71",
   "metadata": {},
   "outputs": [],
   "source": [
    "aya_eval = load_dataset(\"CohereForAI/aya_evaluation_suite\", \"dolly_machine_translated\", split=\"test\")\n",
    "aya_eval_df = aya_eval.to_pandas()\n",
    "aya_eval_df_uk = aya_eval_df[aya_eval_df[\"language\"] == \"ukr\"]\n",
    "aya_eval_df_uk_subset = aya_eval_df_uk[[\"inputs\", \"targets\"]]\n",
    "aya_eval_df_uk_subset.to_csv(os.path.join(datasets_dir_path, \"aya_eval_ukr.csv\"), index=False)"
   ]
  }
 ],
 "metadata": {
  "kernelspec": {
   "display_name": ".venv",
   "language": "python",
   "name": "python3"
  },
  "language_info": {
   "codemirror_mode": {
    "name": "ipython",
    "version": 3
   },
   "file_extension": ".py",
   "mimetype": "text/x-python",
   "name": "python",
   "nbconvert_exporter": "python",
   "pygments_lexer": "ipython3",
   "version": "3.12.0"
  }
 },
 "nbformat": 4,
 "nbformat_minor": 5
}
