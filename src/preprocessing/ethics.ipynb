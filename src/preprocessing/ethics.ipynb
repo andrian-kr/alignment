{
 "cells": [
  {
   "cell_type": "markdown",
   "id": "cf52bbc4",
   "metadata": {},
   "source": [
    "# ETHICS dataset"
   ]
  },
  {
   "cell_type": "code",
   "execution_count": 24,
   "id": "9633d7b1",
   "metadata": {},
   "outputs": [],
   "source": [
    "from datasets import get_dataset_config_names, load_dataset\n",
    "import pandas as pd\n",
    "from tabulate import tabulate\n",
    "from dotenv import load_dotenv\n",
    "import os\n",
    "import sys\n",
    "import matplotlib.pyplot as plt\n",
    "import seaborn as sns\n",
    "import plotly.express as px"
   ]
  },
  {
   "cell_type": "markdown",
   "id": "da111277",
   "metadata": {},
   "source": [
    "#### Setup paths"
   ]
  },
  {
   "cell_type": "code",
   "execution_count": null,
   "id": "4e180d10",
   "metadata": {},
   "outputs": [],
   "source": [
    "load_dotenv()\n",
    "\n",
    "\n",
    "parent_dir = os.path.abspath(os.path.join(os.getcwd(), \"..\"))\n",
    "sys.path.append(parent_dir)\n",
    "\n",
    "\n",
    "datasets_dir=os.getenv(\"DATASETS_DIR\")\n",
    "datasets_dir_path=os.path.join(parent_dir, datasets_dir)\n",
    "ethics_dir = os.path.join(datasets_dir_path, \"ethics\")\n",
    "os.makedirs(ethics_dir, exist_ok=True)"
   ]
  },
  {
   "cell_type": "markdown",
   "id": "9f6950c0",
   "metadata": {},
   "source": [
    "#### Auxiliary methods"
   ]
  },
  {
   "cell_type": "code",
   "execution_count": 8,
   "id": "7e99c6e5",
   "metadata": {},
   "outputs": [],
   "source": [
    "def summarize_ethics_splits():\n",
    "    dataset_name = \"hendrycks/ethics\"\n",
    "    subcategories = get_dataset_config_names(dataset_name)\n",
    "\n",
    "    table = []\n",
    "    headers = [\"Subcategory\", \"Train\", \"Test\", \"Validation\"]\n",
    "\n",
    "    for subcat in subcategories:\n",
    "        dataset = load_dataset(dataset_name, subcat)\n",
    "        row = [subcat]\n",
    "        for split in [\"train\", \"test\", \"validation\"]:\n",
    "            if split in dataset:\n",
    "                row.append(len(dataset[split]))\n",
    "            else:\n",
    "                row.append(\"-\")\n",
    "        table.append(row)\n",
    "\n",
    "    print(tabulate(table, headers=headers, tablefmt=\"grid\"))"
   ]
  },
  {
   "cell_type": "code",
   "execution_count": 12,
   "id": "cd171add",
   "metadata": {},
   "outputs": [],
   "source": [
    "def plot_char_length_histogram(df: pd.DataFrame):\n",
    "    char_lengths = [len(row['input']) for _, row in df.iterrows() if 'input' in row]\n",
    "\n",
    "    sns.set_theme(style=\"whitegrid\", context=\"paper\", font_scale=1.4)\n",
    "    plt.figure(figsize=(8, 5))\n",
    "\n",
    "    sns.histplot(char_lengths, bins=50, color=\"skyblue\", edgecolor=\"black\")\n",
    "\n",
    "    plt.xlabel(\"Total Characters per Example\", labelpad=10)\n",
    "    plt.ylabel(\"Number of Samples\", labelpad=10)\n",
    "    plt.title(\"Character Length Distribution\")\n",
    "\n",
    "    plt.tight_layout()\n",
    "    plt.show()\n"
   ]
  },
  {
   "cell_type": "code",
   "execution_count": 37,
   "id": "49c91920",
   "metadata": {},
   "outputs": [],
   "source": [
    "def plot_label_distribution(df: pd.DataFrame):\n",
    "    label_counts = df['label'].value_counts().sort_index()\n",
    "    \n",
    "    plot_df = pd.DataFrame({\n",
    "        \"Label\": ['Morally Accepted', 'Morally Unaccepted'],\n",
    "        \"Count\": label_counts.values\n",
    "    })\n",
    "\n",
    "    fig = px.bar(\n",
    "        plot_df,\n",
    "        x=\"Label\",\n",
    "        y=\"Count\",\n",
    "        text=\"Count\",\n",
    "        color=\"Label\"\n",
    "    )\n",
    "\n",
    "    fig.update_traces(textposition=\"outside\", marker_line_width=1.5)\n",
    "\n",
    "    fig.update_layout(\n",
    "        title=\"Moral Judgment Label Distribution\",\n",
    "        title_font=dict(size=18, family=\"Arial\", color=\"black\"),\n",
    "        xaxis_title=\"Label Meaning\",\n",
    "        yaxis_title=\"Number of Samples\",\n",
    "        xaxis_tickfont=dict(size=13),\n",
    "        yaxis_tickfont=dict(size=13),\n",
    "        font=dict(family=\"Arial\", size=13),\n",
    "        template=\"plotly_white\",\n",
    "        showlegend=False,\n",
    "        margin=dict(l=40, r=30, t=70, b=50),\n",
    "        width=800,\n",
    "        height=500,\n",
    "    )\n",
    "\n",
    "    fig.show()"
   ]
  },
  {
   "cell_type": "code",
   "execution_count": 19,
   "id": "733874ee",
   "metadata": {},
   "outputs": [],
   "source": [
    "def print_input_length_stats(df1: pd.DataFrame, df2: pd.DataFrame):\n",
    "    print(\"Average Length of 'input' Text (in characters)\\n\")\n",
    "\n",
    "    lengths_1 = df1['input'].apply(len)\n",
    "    lengths_2 = df2['input'].apply(len)\n",
    "\n",
    "    print(f\"Subset 1 (first 1700 rows): {lengths_1.mean():.2f} characters\")\n",
    "    print(f\"Subset 2 (remaining rows): {lengths_2.mean():.2f} characters\\n\")"
   ]
  },
  {
   "cell_type": "markdown",
   "id": "2a9105fa",
   "metadata": {},
   "source": [
    "### Dataset details"
   ]
  },
  {
   "cell_type": "code",
   "execution_count": 11,
   "id": "c01eaa9e",
   "metadata": {},
   "outputs": [
    {
     "name": "stdout",
     "output_type": "stream",
     "text": [
      "+----------------+---------+--------+--------------+\n",
      "| Subcategory    |   Train |   Test |   Validation |\n",
      "+================+=========+========+==============+\n",
      "| commonsense    |   13910 |   3964 |         3885 |\n",
      "+----------------+---------+--------+--------------+\n",
      "| deontology     |   18164 |   3536 |         3596 |\n",
      "+----------------+---------+--------+--------------+\n",
      "| justice        |   21791 |   2052 |         2704 |\n",
      "+----------------+---------+--------+--------------+\n",
      "| utilitarianism |   13737 |   4271 |         4807 |\n",
      "+----------------+---------+--------+--------------+\n",
      "| virtue         |   28245 |   4780 |         4975 |\n",
      "+----------------+---------+--------+--------------+\n"
     ]
    }
   ],
   "source": [
    "summarize_ethics_splits()"
   ]
  },
  {
   "cell_type": "markdown",
   "id": "5739b8d8",
   "metadata": {},
   "source": [
    "### Commonsense test split character length distribution"
   ]
  },
  {
   "cell_type": "code",
   "execution_count": 13,
   "id": "c0baa42b",
   "metadata": {},
   "outputs": [],
   "source": [
    "test_commonsense = load_dataset(\"hendrycks/ethics\", \"commonsense\", split=\"test\")\n",
    "test_commonsense_df = test_commonsense.to_pandas()"
   ]
  },
  {
   "cell_type": "code",
   "execution_count": 14,
   "id": "7b7332bf",
   "metadata": {},
   "outputs": [
    {
     "data": {
      "image/png": "[encoded data removed]",
      "text/plain": [
       "<Figure size 800x500 with 1 Axes>"
      ]
     },
     "metadata": {},
     "output_type": "display_data"
    }
   ],
   "source": [
    "plot_char_length_histogram(test_commonsense_df)"
   ]
  },
  {
   "cell_type": "markdown",
   "id": "e6bb4283",
   "metadata": {},
   "source": [
    "### Subset lengths"
   ]
  },
  {
   "cell_type": "code",
   "execution_count": 20,
   "id": "b3c9bfec",
   "metadata": {},
   "outputs": [
    {
     "name": "stdout",
     "output_type": "stream",
     "text": [
      "Average Length of 'input' Text (in characters)\n",
      "\n",
      "Subset 1 (first 1700 rows): 61.80 characters\n",
      "Subset 2 (remaining rows): 1635.97 characters\n",
      "\n"
     ]
    }
   ],
   "source": [
    "subset_1 = test_commonsense_df.head(1700)\n",
    "subset_2 = test_commonsense_df.tail(len(test_commonsense_df) - 1700)\n",
    "\n",
    "print_input_length_stats(subset_1, subset_2)"
   ]
  },
  {
   "cell_type": "markdown",
   "id": "eec0cc46",
   "metadata": {},
   "source": [
    "### Final dataset distribution by label"
   ]
  },
  {
   "cell_type": "code",
   "execution_count": 38,
   "id": "913ca46c",
   "metadata": {},
   "outputs": [
    {
     "data": {
      "application/vnd.plotly.v1+json": {
       "config": {
        "plotlyServerURL": "https://plot.ly"
       },
       "data": [
        {
         "hovertemplate": "Label=%{x}<br>Count=%{text}<extra></extra>",
         "legendgroup": "Morally Accepted",
         "marker": {
          "color": "#636efa",
          "line": {
           "width": 1.5
          },
          "pattern": {
           "shape": ""
          }
         },
         "name": "Morally Accepted",
         "orientation": "v",
         "showlegend": true,
         "text": {
          "bdata": "AAAAAABwi0A=",
          "dtype": "f8"
         },
         "textposition": "outside",
         "type": "bar",
         "x": [
          "Morally Accepted"
         ],
         "xaxis": "x",
         "y": {
          "bdata": "bgM=",
          "dtype": "i2"
         },
         "yaxis": "y"
        },
        {
         "hovertemplate": "Label=%{x}<br>Count=%{text}<extra></extra>",
         "legendgroup": "Morally Unaccepted",
         "marker": {
          "color": "#EF553B",
          "line": {
           "width": 1.5
          },
          "pattern": {
           "shape": ""
          }
         },
         "name": "Morally Unaccepted",
         "orientation": "v",
         "showlegend": true,
         "text": {
          "bdata": "AAAAAACwiUA=",
          "dtype": "f8"
         },
         "textposition": "outside",
         "type": "bar",
         "x": [
          "Morally Unaccepted"
         ],
         "xaxis": "x",
         "y": {
          "bdata": "NgM=",
          "dtype": "i2"
         },
         "yaxis": "y"
        }
       ],
       "layout": {
        "barmode": "relative",
        "font": {
         "family": "Arial",
         "size": 13
        },
        "height": 500,
        "legend": {
         "title": {
          "text": "Label"
         },
         "tracegroupgap": 0
        },
        "margin": {
         "b": 50,
         "l": 40,
         "r": 30,
         "t": 70
        },
        "showlegend": false,
        "template": {
         "data": {
          "bar": [
           {
            "error_x": {
             "color": "#2a3f5f"
            },
            "error_y": {
             "color": "#2a3f5f"
            },
            "marker": {
             "line": {
              "color": "white",
              "width": 0.5
             },
             "pattern": {
              "fillmode": "overlay",
              "size": 10,
              "solidity": 0.2
             }
            },
            "type": "bar"
           }
          ],
          "barpolar": [
           {
            "marker": {
             "line": {
              "color": "white",
              "width": 0.5
             },
             "pattern": {
              "fillmode": "overlay",
              "size": 10,
              "solidity": 0.2
             }
            },
            "type": "barpolar"
           }
          ],
          "carpet": [
           {
            "aaxis": {
             "endlinecolor": "#2a3f5f",
             "gridcolor": "#C8D4E3",
             "linecolor": "#C8D4E3",
             "minorgridcolor": "#C8D4E3",
             "startlinecolor": "#2a3f5f"
            },
            "baxis": {
             "endlinecolor": "#2a3f5f",
             "gridcolor": "#C8D4E3",
             "linecolor": "#C8D4E3",
             "minorgridcolor": "#C8D4E3",
             "startlinecolor": "#2a3f5f"
            },
            "type": "carpet"
           }
          ],
          "choropleth": [
           {
            "colorbar": {
             "outlinewidth": 0,
             "ticks": ""
            },
            "type": "choropleth"
           }
          ],
          "contour": [
           {
            "colorbar": {
             "outlinewidth": 0,
             "ticks": ""
            },
            "colorscale": [
             [
              0,
              "#0d0887"
             ],
             [
              0.1111111111111111,
              "#46039f"
             ],
             [
              0.2222222222222222,
              "#7201a8"
             ],
             [
              0.3333333333333333,
              "#9c179e"
             ],
             [
              0.4444444444444444,
              "#bd3786"
             ],
             [
              0.5555555555555556,
              "#d8576b"
             ],
             [
              0.6666666666666666,
              "#ed7953"
             ],
             [
              0.7777777777777778,
              "#fb9f3a"
             ],
             [
              0.8888888888888888,
              "#fdca26"
             ],
             [
              1,
              "#f0f921"
             ]
            ],
            "type": "contour"
           }
          ],
          "contourcarpet": [
           {
            "colorbar": {
             "outlinewidth": 0,
             "ticks": ""
            },
            "type": "contourcarpet"
           }
          ],
          "heatmap": [
           {
            "colorbar": {
             "outlinewidth": 0,
             "ticks": ""
            },
            "colorscale": [
             [
              0,
              "#0d0887"
             ],
             [
              0.1111111111111111,
              "#46039f"
             ],
             [
              0.2222222222222222,
              "#7201a8"
             ],
             [
              0.3333333333333333,
              "#9c179e"
             ],
             [
              0.4444444444444444,
              "#bd3786"
             ],
             [
              0.5555555555555556,
              "#d8576b"
             ],
             [
              0.6666666666666666,
              "#ed7953"
             ],
             [
              0.7777777777777778,
              "#fb9f3a"
             ],
             [
              0.8888888888888888,
              "#fdca26"
             ],
             [
              1,
              "#f0f921"
             ]
            ],
            "type": "heatmap"
           }
          ],
          "histogram": [
           {
            "marker": {
             "pattern": {
              "fillmode": "overlay",
              "size": 10,
              "solidity": 0.2
             }
            },
            "type": "histogram"
           }
          ],
          "histogram2d": [
           {
            "colorbar": {
             "outlinewidth": 0,
             "ticks": ""
            },
            "colorscale": [
             [
              0,
              "#0d0887"
             ],
             [
              0.1111111111111111,
              "#46039f"
             ],
             [
              0.2222222222222222,
              "#7201a8"
             ],
             [
              0.3333333333333333,
              "#9c179e"
             ],
             [
              0.4444444444444444,
              "#bd3786"
             ],
             [
              0.5555555555555556,
              "#d8576b"
             ],
             [
              0.6666666666666666,
              "#ed7953"
             ],
             [
              0.7777777777777778,
              "#fb9f3a"
             ],
             [
              0.8888888888888888,
              "#fdca26"
             ],
             [
              1,
              "#f0f921"
             ]
            ],
            "type": "histogram2d"
           }
          ],
          "histogram2dcontour": [
           {
            "colorbar": {
             "outlinewidth": 0,
             "ticks": ""
            },
            "colorscale": [
             [
              0,
              "#0d0887"
             ],
             [
              0.1111111111111111,
              "#46039f"
             ],
             [
              0.2222222222222222,
              "#7201a8"
             ],
             [
              0.3333333333333333,
              "#9c179e"
             ],
             [
              0.4444444444444444,
              "#bd3786"
             ],
             [
              0.5555555555555556,
              "#d8576b"
             ],
             [
              0.6666666666666666,
              "#ed7953"
             ],
             [
              0.7777777777777778,
              "#fb9f3a"
             ],
             [
              0.8888888888888888,
              "#fdca26"
             ],
             [
              1,
              "#f0f921"
             ]
            ],
            "type": "histogram2dcontour"
           }
          ],
          "mesh3d": [
           {
            "colorbar": {
             "outlinewidth": 0,
             "ticks": ""
            },
            "type": "mesh3d"
           }
          ],
          "parcoords": [
           {
            "line": {
             "colorbar": {
              "outlinewidth": 0,
              "ticks": ""
             }
            },
            "type": "parcoords"
           }
          ],
          "pie": [
           {
            "automargin": true,
            "type": "pie"
           }
          ],
          "scatter": [
           {
            "fillpattern": {
             "fillmode": "overlay",
             "size": 10,
             "solidity": 0.2
            },
            "type": "scatter"
           }
          ],
          "scatter3d": [
           {
            "line": {
             "colorbar": {
              "outlinewidth": 0,
              "ticks": ""
             }
            },
            "marker": {
             "colorbar": {
              "outlinewidth": 0,
              "ticks": ""
             }
            },
            "type": "scatter3d"
           }
          ],
          "scattercarpet": [
           {
            "marker": {
             "colorbar": {
              "outlinewidth": 0,
              "ticks": ""
             }
            },
            "type": "scattercarpet"
           }
          ],
          "scattergeo": [
           {
            "marker": {
             "colorbar": {
              "outlinewidth": 0,
              "ticks": ""
             }
            },
            "type": "scattergeo"
           }
          ],
          "scattergl": [
           {
            "marker": {
             "colorbar": {
              "outlinewidth": 0,
              "ticks": ""
             }
            },
            "type": "scattergl"
           }
          ],
          "scattermap": [
           {
            "marker": {
             "colorbar": {
              "outlinewidth": 0,
              "ticks": ""
             }
            },
            "type": "scattermap"
           }
          ],
          "scattermapbox": [
           {
            "marker": {
             "colorbar": {
              "outlinewidth": 0,
              "ticks": ""
             }
            },
            "type": "scattermapbox"
           }
          ],
          "scatterpolar": [
           {
            "marker": {
             "colorbar": {
              "outlinewidth": 0,
              "ticks": ""
             }
            },
            "type": "scatterpolar"
           }
          ],
          "scatterpolargl": [
           {
            "marker": {
             "colorbar": {
              "outlinewidth": 0,
              "ticks": ""
             }
            },
            "type": "scatterpolargl"
           }
          ],
          "scatterternary": [
           {
            "marker": {
             "colorbar": {
              "outlinewidth": 0,
              "ticks": ""
             }
            },
            "type": "scatterternary"
           }
          ],
          "surface": [
           {
            "colorbar": {
             "outlinewidth": 0,
             "ticks": ""
            },
            "colorscale": [
             [
              0,
              "#0d0887"
             ],
             [
              0.1111111111111111,
              "#46039f"
             ],
             [
              0.2222222222222222,
              "#7201a8"
             ],
             [
              0.3333333333333333,
              "#9c179e"
             ],
             [
              0.4444444444444444,
              "#bd3786"
             ],
             [
              0.5555555555555556,
              "#d8576b"
             ],
             [
              0.6666666666666666,
              "#ed7953"
             ],
             [
              0.7777777777777778,
              "#fb9f3a"
             ],
             [
              0.8888888888888888,
              "#fdca26"
             ],
             [
              1,
              "#f0f921"
             ]
            ],
            "type": "surface"
           }
          ],
          "table": [
           {
            "cells": {
             "fill": {
              "color": "#EBF0F8"
             },
             "line": {
              "color": "white"
             }
            },
            "header": {
             "fill": {
              "color": "#C8D4E3"
             },
             "line": {
              "color": "white"
             }
            },
            "type": "table"
           }
          ]
         },
         "layout": {
          "annotationdefaults": {
           "arrowcolor": "#2a3f5f",
           "arrowhead": 0,
           "arrowwidth": 1
          },
          "autotypenumbers": "strict",
          "coloraxis": {
           "colorbar": {
            "outlinewidth": 0,
            "ticks": ""
           }
          },
          "colorscale": {
           "diverging": [
            [
             0,
             "#8e0152"
            ],
            [
             0.1,
             "#c51b7d"
            ],
            [
             0.2,
             "#de77ae"
            ],
            [
             0.3,
             "#f1b6da"
            ],
            [
             0.4,
             "#fde0ef"
            ],
            [
             0.5,
             "#f7f7f7"
            ],
            [
             0.6,
             "#e6f5d0"
            ],
            [
             0.7,
             "#b8e186"
            ],
            [
             0.8,
             "#7fbc41"
            ],
            [
             0.9,
             "#4d9221"
            ],
            [
             1,
             "#276419"
            ]
           ],
           "sequential": [
            [
             0,
             "#0d0887"
            ],
            [
             0.1111111111111111,
             "#46039f"
            ],
            [
             0.2222222222222222,
             "#7201a8"
            ],
            [
             0.3333333333333333,
             "#9c179e"
            ],
            [
             0.4444444444444444,
             "#bd3786"
            ],
            [
             0.5555555555555556,
             "#d8576b"
            ],
            [
             0.6666666666666666,
             "#ed7953"
            ],
            [
             0.7777777777777778,
             "#fb9f3a"
            ],
            [
             0.8888888888888888,
             "#fdca26"
            ],
            [
             1,
             "#f0f921"
            ]
           ],
           "sequentialminus": [
            [
             0,
             "#0d0887"
            ],
            [
             0.1111111111111111,
             "#46039f"
            ],
            [
             0.2222222222222222,
             "#7201a8"
            ],
            [
             0.3333333333333333,
             "#9c179e"
            ],
            [
             0.4444444444444444,
             "#bd3786"
            ],
            [
             0.5555555555555556,
             "#d8576b"
            ],
            [
             0.6666666666666666,
             "#ed7953"
            ],
            [
             0.7777777777777778,
             "#fb9f3a"
            ],
            [
             0.8888888888888888,
             "#fdca26"
            ],
            [
             1,
             "#f0f921"
            ]
           ]
          },
          "colorway": [
           "#636efa",
           "#EF553B",
           "#00cc96",
           "#ab63fa",
           "#FFA15A",
           "#19d3f3",
           "#FF6692",
           "#B6E880",
           "#FF97FF",
           "#FECB52"
          ],
          "font": {
           "color": "#2a3f5f"
          },
          "geo": {
           "bgcolor": "white",
           "lakecolor": "white",
           "landcolor": "white",
           "showlakes": true,
           "showland": true,
           "subunitcolor": "#C8D4E3"
          },
          "hoverlabel": {
           "align": "left"
          },
          "hovermode": "closest",
          "mapbox": {
           "style": "light"
          },
          "paper_bgcolor": "white",
          "plot_bgcolor": "white",
          "polar": {
           "angularaxis": {
            "gridcolor": "#EBF0F8",
            "linecolor": "#EBF0F8",
            "ticks": ""
           },
           "bgcolor": "white",
           "radialaxis": {
            "gridcolor": "#EBF0F8",
            "linecolor": "#EBF0F8",
            "ticks": ""
           }
          },
          "scene": {
           "xaxis": {
            "backgroundcolor": "white",
            "gridcolor": "#DFE8F3",
            "gridwidth": 2,
            "linecolor": "#EBF0F8",
            "showbackground": true,
            "ticks": "",
            "zerolinecolor": "#EBF0F8"
           },
           "yaxis": {
            "backgroundcolor": "white",
            "gridcolor": "#DFE8F3",
            "gridwidth": 2,
            "linecolor": "#EBF0F8",
            "showbackground": true,
            "ticks": "",
            "zerolinecolor": "#EBF0F8"
           },
           "zaxis": {
            "backgroundcolor": "white",
            "gridcolor": "#DFE8F3",
            "gridwidth": 2,
            "linecolor": "#EBF0F8",
            "showbackground": true,
            "ticks": "",
            "zerolinecolor": "#EBF0F8"
           }
          },
          "shapedefaults": {
           "line": {
            "color": "#2a3f5f"
           }
          },
          "ternary": {
           "aaxis": {
            "gridcolor": "#DFE8F3",
            "linecolor": "#A2B1C6",
            "ticks": ""
           },
           "baxis": {
            "gridcolor": "#DFE8F3",
            "linecolor": "#A2B1C6",
            "ticks": ""
           },
           "bgcolor": "white",
           "caxis": {
            "gridcolor": "#DFE8F3",
            "linecolor": "#A2B1C6",
            "ticks": ""
           }
          },
          "title": {
           "x": 0.05
          },
          "xaxis": {
           "automargin": true,
           "gridcolor": "#EBF0F8",
           "linecolor": "#EBF0F8",
           "ticks": "",
           "title": {
            "standoff": 15
           },
           "zerolinecolor": "#EBF0F8",
           "zerolinewidth": 2
          },
          "yaxis": {
           "automargin": true,
           "gridcolor": "#EBF0F8",
           "linecolor": "#EBF0F8",
           "ticks": "",
           "title": {
            "standoff": 15
           },
           "zerolinecolor": "#EBF0F8",
           "zerolinewidth": 2
          }
         }
        },
        "title": {
         "font": {
          "color": "black",
          "family": "Arial",
          "size": 18
         },
         "text": "Moral Judgment Label Distribution"
        },
        "width": 800,
        "xaxis": {
         "anchor": "y",
         "categoryarray": [
          "Morally Accepted",
          "Morally Unaccepted"
         ],
         "categoryorder": "array",
         "domain": [
          0,
          1
         ],
         "tickfont": {
          "size": 13
         },
         "title": {
          "text": "Label Meaning"
         }
        },
        "yaxis": {
         "anchor": "x",
         "domain": [
          0,
          1
         ],
         "tickfont": {
          "size": 13
         },
         "title": {
          "text": "Number of Samples"
         }
        }
       }
      }
     },
     "metadata": {},
     "output_type": "display_data"
    }
   ],
   "source": [
    "plot_label_distribution(subset_1)"
   ]
  },
  {
   "cell_type": "code",
   "execution_count": null,
   "id": "cdcd8771",
   "metadata": {},
   "outputs": [],
   "source": [
    "subset_1.to_csv(os.path.join(ethics_dir, \"ethics_commonsense.csv\"), index=False)"
   ]
  }
 ],
 "metadata": {
  "kernelspec": {
   "display_name": ".venv",
   "language": "python",
   "name": "python3"
  },
  "language_info": {
   "codemirror_mode": {
    "name": "ipython",
    "version": 3
   },
   "file_extension": ".py",
   "mimetype": "text/x-python",
   "name": "python",
   "nbconvert_exporter": "python",
   "pygments_lexer": "ipython3",
   "version": "3.12.0"
  }
 },
 "nbformat": 4,
 "nbformat_minor": 5
}
