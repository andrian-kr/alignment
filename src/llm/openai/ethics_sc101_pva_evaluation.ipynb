{
 "cells": [
  {
   "cell_type": "markdown",
   "id": "2011822b",
   "metadata": {},
   "source": [
    "## GPT-4o evaluation on ETHICS-sc101-PVA dataset"
   ]
  },
  {
   "cell_type": "code",
   "execution_count": 9,
   "id": "2429e178",
   "metadata": {},
   "outputs": [],
   "source": [
    "import os\n",
    "import pandas as pd\n",
    "from tqdm import tqdm\n",
    "from langchain.output_parsers import PydanticOutputParser\n",
    "from langchain_openai import ChatOpenAI\n",
    "import sys"
   ]
  },
  {
   "cell_type": "code",
   "execution_count": 10,
   "id": "b7859127",
   "metadata": {},
   "outputs": [],
   "source": [
    "parent_dir = os.path.abspath(os.path.join(os.getcwd(), \"..\", \"..\"))\n",
    "sys.path.append(parent_dir)"
   ]
  },
  {
   "cell_type": "code",
   "execution_count": 11,
   "id": "57478dc7",
   "metadata": {},
   "outputs": [],
   "source": [
    "from llm.prompts import (\n",
    "    alignment_eval_prompt,\n",
    "    alignment_eval_prompt_en,\n",
    "    sc_101_eval_prompt_pva_bad,\n",
    "    sc_101_eval_prompt_pva_bad_en,\n",
    ")\n",
    "from evaluators.mixed_pva_evaluator import ModelAlignment"
   ]
  },
  {
   "cell_type": "markdown",
   "id": "8e861369",
   "metadata": {},
   "source": [
    "### GPT-4o setup"
   ]
  },
  {
   "cell_type": "code",
   "execution_count": 12,
   "id": "18c9b3b7",
   "metadata": {},
   "outputs": [],
   "source": [
    "llm = ChatOpenAI(model='gpt-4o', max_tokens=256)\n",
    "eval_output_parser = PydanticOutputParser(pydantic_object=ModelAlignment)"
   ]
  },
  {
   "cell_type": "code",
   "execution_count": 13,
   "id": "382a2ac5",
   "metadata": {},
   "outputs": [],
   "source": [
    "def evaluate_response(full_prompt: str, prediction: str, is_en: bool = False):\n",
    "    prompt = alignment_eval_prompt_en if is_en else alignment_eval_prompt\n",
    "    eval_chain = prompt | llm | eval_output_parser\n",
    "    result = eval_chain.invoke({\"query\": full_prompt, \"response\": prediction})\n",
    "    return result.score, result.explanation\n",
    "    "
   ]
  },
  {
   "cell_type": "code",
   "execution_count": 14,
   "id": "11215af0",
   "metadata": {},
   "outputs": [],
   "source": [
    "def get_prediction_and_prompt(query: str, is_en: bool = False):\n",
    "    prompt_template = sc_101_eval_prompt_pva_bad_en if is_en else sc_101_eval_prompt_pva_bad\n",
    "    full_prompt = prompt_template.format(query=query)\n",
    "    chain = prompt_template | llm\n",
    "    response = chain.invoke({\"query\": query})\n",
    "    return response.content.strip(), full_prompt"
   ]
  },
  {
   "cell_type": "code",
   "execution_count": 15,
   "id": "c4f521f6",
   "metadata": {},
   "outputs": [],
   "source": [
    "def process_df(df: pd.DataFrame, is_en: bool = False) -> pd.DataFrame:\n",
    "    query_col = \"query_en\" if is_en else \"query_ukr\"\n",
    "    results = []\n",
    "\n",
    "    for _, row in tqdm(df.iterrows(), total=len(df), desc=f\"Processing {'EN' if is_en else 'UKR'}\"):\n",
    "        query = row[query_col]\n",
    "        prediction, full_prompt = get_prediction_and_prompt(query, is_en=is_en)\n",
    "        score, explanation = evaluate_response(full_prompt, prediction, is_en=is_en)\n",
    "        results.append({\n",
    "            \"query_en\": row[\"query_en\"],\n",
    "            \"query_ukr\": row[\"query_ukr\"],\n",
    "            \"prediction\": prediction,\n",
    "            \"score\": score,\n",
    "            \"explanation\": explanation\n",
    "        })\n",
    "\n",
    "    return pd.DataFrame(results)"
   ]
  },
  {
   "cell_type": "markdown",
   "id": "54ce0ff4",
   "metadata": {},
   "source": [
    "### Evlaution"
   ]
  },
  {
   "cell_type": "code",
   "execution_count": 16,
   "id": "686e63a9",
   "metadata": {},
   "outputs": [
    {
     "name": "stderr",
     "output_type": "stream",
     "text": [
      "Processing EN:   0%|          | 0/82 [00:00<?, ?it/s]"
     ]
    },
    {
     "name": "stderr",
     "output_type": "stream",
     "text": [
      "Processing EN: 100%|██████████| 82/82 [05:19<00:00,  3.90s/it]\n",
      "Processing UKR: 100%|██████████| 82/82 [07:11<00:00,  5.27s/it]\n"
     ]
    }
   ],
   "source": [
    "df = pd.read_csv(\"../../data/ethics_sc101_pva.csv\")\n",
    "\n",
    "df_en_results = process_df(df, is_en=True)\n",
    "df_ukr_results = process_df(df, is_en=False)"
   ]
  },
  {
   "cell_type": "code",
   "execution_count": 17,
   "id": "0c6ab881",
   "metadata": {},
   "outputs": [],
   "source": [
    "average_score_en = df_en_results[\"score\"].astype(float).mean()\n",
    "average_score_ukr = df_ukr_results[\"score\"].astype(float).mean()"
   ]
  },
  {
   "cell_type": "code",
   "execution_count": 18,
   "id": "f5c73915",
   "metadata": {},
   "outputs": [
    {
     "data": {
      "text/plain": [
       "np.float64(0.4634146341463415)"
      ]
     },
     "execution_count": 18,
     "metadata": {},
     "output_type": "execute_result"
    }
   ],
   "source": [
    "average_score_en"
   ]
  },
  {
   "cell_type": "code",
   "execution_count": 19,
   "id": "7a5e89fc",
   "metadata": {},
   "outputs": [
    {
     "data": {
      "text/plain": [
       "np.float64(0.45121951219512196)"
      ]
     },
     "execution_count": 19,
     "metadata": {},
     "output_type": "execute_result"
    }
   ],
   "source": [
    "average_score_ukr"
   ]
  },
  {
   "cell_type": "code",
   "execution_count": 21,
   "id": "32cafaea",
   "metadata": {},
   "outputs": [],
   "source": [
    "df_en_results['llm_eval']= df_en_results['score'].astype(float)\n",
    "df_ukr_results['llm_eval']= df_ukr_results['score'].astype(float)"
   ]
  },
  {
   "cell_type": "code",
   "execution_count": null,
   "id": "3dea3396",
   "metadata": {},
   "outputs": [],
   "source": [
    "df_en_results.to_csv(\"../../results/mixed_bad/en_gpt-4o.csv\", index=False)\n",
    "df_ukr_results.to_csv(\"../../results/mixed_bad/gpt-4o.csv\", index=False)"
   ]
  }
 ],
 "metadata": {
  "kernelspec": {
   "display_name": ".venv",
   "language": "python",
   "name": "python3"
  },
  "language_info": {
   "codemirror_mode": {
    "name": "ipython",
    "version": 3
   },
   "file_extension": ".py",
   "mimetype": "text/x-python",
   "name": "python",
   "nbconvert_exporter": "python",
   "pygments_lexer": "ipython3",
   "version": "3.12.0"
  }
 },
 "nbformat": 4,
 "nbformat_minor": 5
}
