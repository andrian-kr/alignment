{
 "cells": [
  {
   "cell_type": "markdown",
   "id": "7f355acb",
   "metadata": {},
   "source": [
    "## GPT-4o evaluation on developed benchmark"
   ]
  },
  {
   "cell_type": "code",
   "execution_count": null,
   "id": "ef9cf589",
   "metadata": {},
   "outputs": [],
   "source": [
    "import os\n",
    "import sys\n",
    "import pandas as pd\n",
    "from langchain_core.prompts.prompt import PromptTemplate\n",
    "from tqdm import tqdm\n",
    "from langchain_openai import ChatOpenAI"
   ]
  },
  {
   "cell_type": "code",
   "execution_count": null,
   "id": "b5671a9b",
   "metadata": {},
   "outputs": [],
   "source": [
    "parent_dir = os.path.abspath(os.path.join(os.getcwd(), \"..\", \"..\"))\n",
    "sys.path.append(parent_dir)"
   ]
  },
  {
   "cell_type": "code",
   "execution_count": null,
   "id": "c2689c83",
   "metadata": {},
   "outputs": [],
   "source": [
    "from llm.prompts import (\n",
    "    ethics_commonsense_eval_prompt_en,\n",
    "    ethics_commonsense_eval_prompt,\n",
    "    sc_101_eval_prompt,\n",
    "    sc_101_eval_prompt_en,\n",
    ")"
   ]
  },
  {
   "cell_type": "code",
   "execution_count": null,
   "id": "e955b91c",
   "metadata": {},
   "outputs": [],
   "source": [
    "tqdm.pandas()"
   ]
  },
  {
   "cell_type": "markdown",
   "id": "93f09425",
   "metadata": {},
   "source": [
    "#### GPT-4o setup"
   ]
  },
  {
   "cell_type": "code",
   "execution_count": null,
   "id": "24712cf1",
   "metadata": {},
   "outputs": [],
   "source": [
    "llm = ChatOpenAI(model='gpt-4o', max_tokens=128)"
   ]
  },
  {
   "cell_type": "code",
   "execution_count": null,
   "id": "8de3ab10",
   "metadata": {},
   "outputs": [],
   "source": [
    "def get_response(row, prompt_template: PromptTemplate, column_name: str):\n",
    "    chain = prompt_template | llm\n",
    "    response = chain.invoke({\"query\": row[column_name]})\n",
    "    return response.content.strip()"
   ]
  },
  {
   "cell_type": "markdown",
   "id": "c88964f3",
   "metadata": {},
   "source": [
    "## Ethics\n",
    "\n",
    "#### English"
   ]
  },
  {
   "cell_type": "code",
   "execution_count": null,
   "id": "e40e0a79",
   "metadata": {},
   "outputs": [],
   "source": [
    "ethics_df=pd.read_csv(\"../../data/ethics/ethics_commonsense_final.csv\")\n",
    "ethics_df2 = ethics_df.copy()"
   ]
  },
  {
   "cell_type": "code",
   "execution_count": null,
   "id": "fce1848a",
   "metadata": {},
   "outputs": [
    {
     "ename": "NameError",
     "evalue": "name 'ethics_df' is not defined",
     "output_type": "error",
     "traceback": [
      "\u001b[31m---------------------------------------------------------------------------\u001b[39m",
      "\u001b[31mNameError\u001b[39m                                 Traceback (most recent call last)",
      "\u001b[36mCell\u001b[39m\u001b[36m \u001b[39m\u001b[32mIn[1]\u001b[39m\u001b[32m, line 1\u001b[39m\n\u001b[32m----> \u001b[39m\u001b[32m1\u001b[39m ethics_df[\u001b[33m\"\u001b[39m\u001b[33mprediction\u001b[39m\u001b[33m\"\u001b[39m] = \u001b[43methics_df\u001b[49m.progress_apply(\n\u001b[32m      2\u001b[39m     \u001b[38;5;28;01mlambda\u001b[39;00m row: get_response(row, ethics_commonsense_eval_prompt_en, \u001b[33m\"\u001b[39m\u001b[33m\"\u001b[39m), axis=\u001b[32m1\u001b[39m\n\u001b[32m      3\u001b[39m )\n",
      "\u001b[31mNameError\u001b[39m: name 'ethics_df' is not defined"
     ]
    }
   ],
   "source": [
    "ethics_df[\"prediction\"] = ethics_df.progress_apply(\n",
    "    lambda row: get_response(row, ethics_commonsense_eval_prompt_en, \"input_en\"), axis=1\n",
    ")"
   ]
  },
  {
   "cell_type": "code",
   "execution_count": null,
   "id": "9ed1f4e2",
   "metadata": {},
   "outputs": [],
   "source": [
    "ethics_df.to_csv('../../results/ethics_commonsense_claude/en_gpt-4o.csv', index=False)"
   ]
  },
  {
   "cell_type": "markdown",
   "id": "def19148",
   "metadata": {},
   "source": [
    "#### Ukrainian"
   ]
  },
  {
   "cell_type": "code",
   "execution_count": null,
   "id": "01750f01",
   "metadata": {},
   "outputs": [],
   "source": [
    "ethics_df2[\"prediction\"] = ethics_df2.progress_apply(\n",
    "    lambda row: get_response(row, ethics_commonsense_eval_prompt, \"input_ukr\"), axis=1\n",
    ")"
   ]
  },
  {
   "cell_type": "code",
   "execution_count": null,
   "id": "f4209924",
   "metadata": {},
   "outputs": [],
   "source": [
    "ethics_df2.to_csv('../results/ethics_commonsense_claude/gpt-4o.csv', index=False)"
   ]
  },
  {
   "cell_type": "markdown",
   "id": "9cab3290",
   "metadata": {},
   "source": [
    "### Social Chemistry 101\n",
    "\n",
    "#### English"
   ]
  },
  {
   "cell_type": "code",
   "execution_count": null,
   "id": "95917d1e",
   "metadata": {},
   "outputs": [],
   "source": [
    "sc_final = pd.read_csv(\"../../data/social-chem-101/social-chem-101_final.csv\")\n",
    "sc_final2 = sc_final.copy()"
   ]
  },
  {
   "cell_type": "code",
   "execution_count": null,
   "id": "3c57b2c3",
   "metadata": {},
   "outputs": [],
   "source": [
    "sc_final[\"prediction\"] = sc_final.progress_apply(\n",
    "    lambda row: get_response(row, sc_101_eval_prompt_en, \"action_en\"), axis=1\n",
    ")"
   ]
  },
  {
   "cell_type": "code",
   "execution_count": null,
   "id": "f0af6e75",
   "metadata": {},
   "outputs": [],
   "source": [
    "sc_final.to_csv('../../results/sc_101_care_harm_claude/en_gpt-4o.csv', index=False)"
   ]
  },
  {
   "cell_type": "markdown",
   "id": "e5ea8e2f",
   "metadata": {},
   "source": [
    "#### Ukrainian"
   ]
  },
  {
   "cell_type": "code",
   "execution_count": null,
   "id": "c073da58",
   "metadata": {},
   "outputs": [],
   "source": [
    "sc_final2[\"prediction\"] = sc_final2.progress_apply(\n",
    "    lambda row: get_response(row, sc_101_eval_prompt, \"action_ukr\"), axis=1\n",
    ")"
   ]
  },
  {
   "cell_type": "code",
   "execution_count": null,
   "id": "14f119f1",
   "metadata": {},
   "outputs": [],
   "source": [
    "sc_final.to_csv('../../results/sc_101_care_harm_claude/gpt-4o.csv', index=False)"
   ]
  }
 ],
 "metadata": {
  "kernelspec": {
   "display_name": ".venv",
   "language": "python",
   "name": "python3"
  },
  "language_info": {
   "codemirror_mode": {
    "name": "ipython",
    "version": 3
   },
   "file_extension": ".py",
   "mimetype": "text/x-python",
   "name": "python",
   "nbconvert_exporter": "python",
   "pygments_lexer": "ipython3",
   "version": "3.12.0"
  }
 },
 "nbformat": 4,
 "nbformat_minor": 5
}
